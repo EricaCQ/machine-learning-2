{
  "nbformat": 4,
  "nbformat_minor": 0,
  "metadata": {
    "colab": {
      "name": "Cópia de T2_ML_V4.ipynb",
      "provenance": [],
      "collapsed_sections": [],
      "toc_visible": true
    },
    "kernelspec": {
      "name": "python3",
      "display_name": "Python 3"
    },
    "language_info": {
      "name": "python"
    }
  },
  "cells": [
    {
      "cell_type": "markdown",
      "metadata": {
        "id": "eVWa4F8c7Di0"
      },
      "source": [
        "Programa de Pós-graduação em Ciências da Computação (PPCIC)\n",
        "\n",
        "Centro Federal de Educação Tecnológica Celso Suckow da Fonseca – (CEFET/RJ)\n",
        "\n",
        "Disciplina: Aprendizado de Máquina\n",
        "\n",
        "Prof.: Eduardo Bezerra\n",
        "\n",
        "Aluna: Érica Carneiro"
      ]
    },
    {
      "cell_type": "markdown",
      "metadata": {
        "id": "kg9Xckly7Qe_"
      },
      "source": [
        "Para a correta execução das funções de predição em aprendizado de máquina, o uso de algumas bibliotecas em Python são de grande para o auxílio e execução dos algoritmo presentes neste trabalhos.\n",
        "Ressalta-se que optou-se por executar todas as funções dentro do presente documento de modo a facilitar a visualilzação, aprendizado e possíveis inferências que as mesmas poderiam trazer ao leitor e autor do presente documento. "
      ]
    },
    {
      "cell_type": "markdown",
      "metadata": {
        "id": "1sZy8gxh7V5h"
      },
      "source": [
        "##Importação de bibliotecas das principais bibliotecas"
      ]
    },
    {
      "cell_type": "markdown",
      "metadata": {
        "id": "El5s5gO57boP"
      },
      "source": [
        "As bibliotecas relacionadas abaixo foram utilizadas no presente documento. Todas são de fundamental importância para a execução das funções e execução dos algoritmos de aprendizado de máquina para o desenvolvimento deste trabalho."
      ]
    },
    {
      "cell_type": "code",
      "metadata": {
        "id": "CHDYrtNH641p"
      },
      "source": [
        "import numpy as np\n",
        "import pandas as pd\n",
        "import matplotlib.pyplot as plt\n",
        "from sklearn.metrics import mean_squared_error \n",
        "from sklearn.tree import DecisionTreeRegressor\n",
        "from sklearn.neighbors import KNeighborsRegressor\n",
        "from sklearn.preprocessing import StandardScaler\n",
        "from sklearn.model_selection import train_test_split, RandomizedSearchCV, GridSearchCV"
      ],
      "execution_count": 1,
      "outputs": []
    },
    {
      "cell_type": "markdown",
      "metadata": {
        "id": "ildD63X87o4X"
      },
      "source": [
        "##Importação de Arquivos"
      ]
    },
    {
      "cell_type": "markdown",
      "metadata": {
        "id": "tNTRTrYe7u1X"
      },
      "source": [
        "A fim de facilitar o desenvolvimento e agilizar as etapas de importação de arquivos, optou-se pela importação automática de arquivos salvos no drive pessoal do Google. Como o Google Colab exige que arquivos e algoritmos sejam reprocessados ou importados novamete, a aplicação abaixo evita o constante upload individual de data frames."
      ]
    },
    {
      "cell_type": "code",
      "metadata": {
        "id": "VNrgrVoI7rQd",
        "colab": {
          "base_uri": "https://localhost:8080/",
          "height": 0
        },
        "outputId": "1ea21ea3-4b2e-4af4-b765-fb7e23bfeb5b"
      },
      "source": [
        "from google.colab import drive\n",
        "drive.mount('/content/drive')"
      ],
      "execution_count": 2,
      "outputs": [
        {
          "output_type": "stream",
          "text": [
            "Mounted at /content/drive\n"
          ],
          "name": "stdout"
        }
      ]
    },
    {
      "cell_type": "code",
      "metadata": {
        "id": "4dapbjOn8JpN"
      },
      "source": [
        "import os"
      ],
      "execution_count": 3,
      "outputs": []
    },
    {
      "cell_type": "code",
      "metadata": {
        "id": "bSFJ770F8Mwk"
      },
      "source": [
        "dir = '/content/drive/My Drive/AM-T1-dados'\n",
        "os.chdir(dir)"
      ],
      "execution_count": 4,
      "outputs": []
    },
    {
      "cell_type": "markdown",
      "metadata": {
        "id": "y98P3ctH8PdN"
      },
      "source": [
        "#1. Aprendizado Supervisionado Revisitado"
      ]
    },
    {
      "cell_type": "markdown",
      "metadata": {
        "id": "kNdwaHcf8V53"
      },
      "source": [
        "##1.1 Aprendizado de Regressores"
      ]
    },
    {
      "cell_type": "markdown",
      "metadata": {
        "id": "pboDhxLJ8bzu"
      },
      "source": [
        "###1.1.1 Regressão com uma Variável"
      ]
    },
    {
      "cell_type": "markdown",
      "metadata": {
        "id": "Y0OKsAdUgtOk"
      },
      "source": [
        "Assim como no primeiro trabalho, demonstrar-se-á um passo a passo de modo a implementar a regressão linear com uma variável, também denominada regressão linear simples. As análises que se utilizam deste tipo de equação possuem apenas duas variáveis, uma dependente e outra independente. Sua fórmula pode ser representada pela função da equação linear:\n",
        "\n",
        "y= a + bx\n",
        "\n",
        "É importante destacar que a relação entre as variáveis possibilitará a predição ou estimativa de outras variáveis.\n",
        "\n",
        "A aplicação abaixo tem como objetivo predizer o lucro para uma cadeia de food truck. Valores negativos correspondem a filiais cujo retorno de investimento não corresponde ao esperado.\n",
        "\n"
      ]
    },
    {
      "cell_type": "markdown",
      "metadata": {
        "id": "iIvLDP3F8kFl"
      },
      "source": [
        "Utilizar-se-á para este trabalho o link com o dataset a fim de facilitar a importação de dados. A seguir, o dataset é carregado e sua análise inicial é realizada e os dados são conertidos em array por meio da biblioteca numpy (numpy array) através do comando np.array."
      ]
    },
    {
      "cell_type": "code",
      "metadata": {
        "id": "2gJqL9vd8Umm",
        "colab": {
          "base_uri": "https://localhost:8080/",
          "height": 204
        },
        "outputId": "00580e19-3b15-49fe-8880-7d30c2e7d1c3"
      },
      "source": [
        "data1 = 'https://raw.githubusercontent.com/MLRG-CEFET-RJ/ml-class/master/ml-t1/data/ex1data1.txt'\n",
        "d1 = pd.read_table(data1,\n",
        "                      sep=',',\n",
        "                      header=None,\n",
        "                      names=['População', 'Lucro'])\n",
        "\n",
        "X = np.array(d1.População)\n",
        "X = X.reshape(-1, 1)\n",
        "y = np.array(d1.Lucro)\n",
        "\n",
        "d1.head()"
      ],
      "execution_count": 5,
      "outputs": [
        {
          "output_type": "execute_result",
          "data": {
            "text/html": [
              "<div>\n",
              "<style scoped>\n",
              "    .dataframe tbody tr th:only-of-type {\n",
              "        vertical-align: middle;\n",
              "    }\n",
              "\n",
              "    .dataframe tbody tr th {\n",
              "        vertical-align: top;\n",
              "    }\n",
              "\n",
              "    .dataframe thead th {\n",
              "        text-align: right;\n",
              "    }\n",
              "</style>\n",
              "<table border=\"1\" class=\"dataframe\">\n",
              "  <thead>\n",
              "    <tr style=\"text-align: right;\">\n",
              "      <th></th>\n",
              "      <th>População</th>\n",
              "      <th>Lucro</th>\n",
              "    </tr>\n",
              "  </thead>\n",
              "  <tbody>\n",
              "    <tr>\n",
              "      <th>0</th>\n",
              "      <td>6.1101</td>\n",
              "      <td>17.5920</td>\n",
              "    </tr>\n",
              "    <tr>\n",
              "      <th>1</th>\n",
              "      <td>5.5277</td>\n",
              "      <td>9.1302</td>\n",
              "    </tr>\n",
              "    <tr>\n",
              "      <th>2</th>\n",
              "      <td>8.5186</td>\n",
              "      <td>13.6620</td>\n",
              "    </tr>\n",
              "    <tr>\n",
              "      <th>3</th>\n",
              "      <td>7.0032</td>\n",
              "      <td>11.8540</td>\n",
              "    </tr>\n",
              "    <tr>\n",
              "      <th>4</th>\n",
              "      <td>5.8598</td>\n",
              "      <td>6.8233</td>\n",
              "    </tr>\n",
              "  </tbody>\n",
              "</table>\n",
              "</div>"
            ],
            "text/plain": [
              "   População    Lucro\n",
              "0     6.1101  17.5920\n",
              "1     5.5277   9.1302\n",
              "2     8.5186  13.6620\n",
              "3     7.0032  11.8540\n",
              "4     5.8598   6.8233"
            ]
          },
          "metadata": {
            "tags": []
          },
          "execution_count": 5
        }
      ]
    },
    {
      "cell_type": "code",
      "metadata": {
        "id": "xIwgIb828-Hz",
        "colab": {
          "base_uri": "https://localhost:8080/",
          "height": 204
        },
        "outputId": "cc098316-82e7-4c53-8909-95a89c5d4e14"
      },
      "source": [
        "arquivo = 'https://raw.githubusercontent.com/MLRG-CEFET-RJ/ml-class/master/ml-t1/data/ex1data1.txt'\n",
        "dados = pd.read_table(arquivo,\n",
        "                      sep=',',\n",
        "                      header=None,\n",
        "                      names=['População', 'Lucro'])\n",
        "\n",
        "X = np.array(dados.População)\n",
        "X = X.reshape(-1, 1)\n",
        "y = np.array(dados.Lucro)\n",
        "\n",
        "dados.head()"
      ],
      "execution_count": 6,
      "outputs": [
        {
          "output_type": "execute_result",
          "data": {
            "text/html": [
              "<div>\n",
              "<style scoped>\n",
              "    .dataframe tbody tr th:only-of-type {\n",
              "        vertical-align: middle;\n",
              "    }\n",
              "\n",
              "    .dataframe tbody tr th {\n",
              "        vertical-align: top;\n",
              "    }\n",
              "\n",
              "    .dataframe thead th {\n",
              "        text-align: right;\n",
              "    }\n",
              "</style>\n",
              "<table border=\"1\" class=\"dataframe\">\n",
              "  <thead>\n",
              "    <tr style=\"text-align: right;\">\n",
              "      <th></th>\n",
              "      <th>População</th>\n",
              "      <th>Lucro</th>\n",
              "    </tr>\n",
              "  </thead>\n",
              "  <tbody>\n",
              "    <tr>\n",
              "      <th>0</th>\n",
              "      <td>6.1101</td>\n",
              "      <td>17.5920</td>\n",
              "    </tr>\n",
              "    <tr>\n",
              "      <th>1</th>\n",
              "      <td>5.5277</td>\n",
              "      <td>9.1302</td>\n",
              "    </tr>\n",
              "    <tr>\n",
              "      <th>2</th>\n",
              "      <td>8.5186</td>\n",
              "      <td>13.6620</td>\n",
              "    </tr>\n",
              "    <tr>\n",
              "      <th>3</th>\n",
              "      <td>7.0032</td>\n",
              "      <td>11.8540</td>\n",
              "    </tr>\n",
              "    <tr>\n",
              "      <th>4</th>\n",
              "      <td>5.8598</td>\n",
              "      <td>6.8233</td>\n",
              "    </tr>\n",
              "  </tbody>\n",
              "</table>\n",
              "</div>"
            ],
            "text/plain": [
              "   População    Lucro\n",
              "0     6.1101  17.5920\n",
              "1     5.5277   9.1302\n",
              "2     8.5186  13.6620\n",
              "3     7.0032  11.8540\n",
              "4     5.8598   6.8233"
            ]
          },
          "metadata": {
            "tags": []
          },
          "execution_count": 6
        }
      ]
    },
    {
      "cell_type": "markdown",
      "metadata": {
        "id": "mqTtb9gG-WjI"
      },
      "source": [
        "O resumo estatísticos de dados numéricos pode ser verificado pelo comando a seguir:"
      ]
    },
    {
      "cell_type": "code",
      "metadata": {
        "id": "6udIrYpm833V",
        "colab": {
          "base_uri": "https://localhost:8080/",
          "height": 297
        },
        "outputId": "9f5c0de1-e44b-464e-b9e1-9e7426c3e4e8"
      },
      "source": [
        "d1.describe()"
      ],
      "execution_count": 7,
      "outputs": [
        {
          "output_type": "execute_result",
          "data": {
            "text/html": [
              "<div>\n",
              "<style scoped>\n",
              "    .dataframe tbody tr th:only-of-type {\n",
              "        vertical-align: middle;\n",
              "    }\n",
              "\n",
              "    .dataframe tbody tr th {\n",
              "        vertical-align: top;\n",
              "    }\n",
              "\n",
              "    .dataframe thead th {\n",
              "        text-align: right;\n",
              "    }\n",
              "</style>\n",
              "<table border=\"1\" class=\"dataframe\">\n",
              "  <thead>\n",
              "    <tr style=\"text-align: right;\">\n",
              "      <th></th>\n",
              "      <th>População</th>\n",
              "      <th>Lucro</th>\n",
              "    </tr>\n",
              "  </thead>\n",
              "  <tbody>\n",
              "    <tr>\n",
              "      <th>count</th>\n",
              "      <td>97.000000</td>\n",
              "      <td>97.000000</td>\n",
              "    </tr>\n",
              "    <tr>\n",
              "      <th>mean</th>\n",
              "      <td>8.159800</td>\n",
              "      <td>5.839135</td>\n",
              "    </tr>\n",
              "    <tr>\n",
              "      <th>std</th>\n",
              "      <td>3.869884</td>\n",
              "      <td>5.510262</td>\n",
              "    </tr>\n",
              "    <tr>\n",
              "      <th>min</th>\n",
              "      <td>5.026900</td>\n",
              "      <td>-2.680700</td>\n",
              "    </tr>\n",
              "    <tr>\n",
              "      <th>25%</th>\n",
              "      <td>5.707700</td>\n",
              "      <td>1.986900</td>\n",
              "    </tr>\n",
              "    <tr>\n",
              "      <th>50%</th>\n",
              "      <td>6.589400</td>\n",
              "      <td>4.562300</td>\n",
              "    </tr>\n",
              "    <tr>\n",
              "      <th>75%</th>\n",
              "      <td>8.578100</td>\n",
              "      <td>7.046700</td>\n",
              "    </tr>\n",
              "    <tr>\n",
              "      <th>max</th>\n",
              "      <td>22.203000</td>\n",
              "      <td>24.147000</td>\n",
              "    </tr>\n",
              "  </tbody>\n",
              "</table>\n",
              "</div>"
            ],
            "text/plain": [
              "       População      Lucro\n",
              "count  97.000000  97.000000\n",
              "mean    8.159800   5.839135\n",
              "std     3.869884   5.510262\n",
              "min     5.026900  -2.680700\n",
              "25%     5.707700   1.986900\n",
              "50%     6.589400   4.562300\n",
              "75%     8.578100   7.046700\n",
              "max    22.203000  24.147000"
            ]
          },
          "metadata": {
            "tags": []
          },
          "execution_count": 7
        }
      ]
    },
    {
      "cell_type": "markdown",
      "metadata": {
        "id": "Ge39HEn4C7fK"
      },
      "source": [
        "###Gráfico de dispersão"
      ]
    },
    {
      "cell_type": "markdown",
      "metadata": {
        "id": "5IV569TsDK_q"
      },
      "source": [
        "A seguir, gera-se o gráfico de dispersão. Por ele, é possível inferir que quanto maior a população, maior será o lucro da filial."
      ]
    },
    {
      "cell_type": "code",
      "metadata": {
        "id": "Xy0TvsseDEQg",
        "colab": {
          "base_uri": "https://localhost:8080/",
          "height": 295
        },
        "outputId": "a327a727-40d0-440a-effb-dcc990430b77"
      },
      "source": [
        "plt.scatter(X, y, color='blue', marker='*')\n",
        "plt.title('População x Lucro filial')\n",
        "plt.xlabel('População (10k)')\n",
        "plt.ylabel('Lucro (10k)')\n",
        "plt.show()"
      ],
      "execution_count": 8,
      "outputs": [
        {
          "output_type": "display_data",
          "data": {
            "image/png": "[encoded data removed]",
            "text/plain": [
              "<Figure size 432x288 with 1 Axes>"
            ]
          },
          "metadata": {
            "tags": [],
            "needs_background": "light"
          }
        }
      ]
    },
    {
      "cell_type": "markdown",
      "metadata": {
        "id": "RBepxWbcDY79"
      },
      "source": [
        "Regressão com uma Variável com o algoritmo k-NN, classe KNeighborsRegressor"
      ]
    },
    {
      "cell_type": "markdown",
      "metadata": {
        "id": "z9P0RGNnEhk0"
      },
      "source": [
        "O alvo é previsto por interpolação local dos alvos associados aos vizinhos mais próximos no conjunto de treinamento. Assim, o *label* atribuído a um ponto de consulta é calculado com base na média de seus pontos vizinhos mais próximos."
      ]
    },
    {
      "cell_type": "markdown",
      "metadata": {
        "id": "SGV33mU_R7Uq"
      },
      "source": [
        "Importação das bibliotecas para o cálculo de regressão com uso do algoritmo k-NN.\n",
        "\n",
        "*import train_test_split* é utilizada no momento da atribuição dos valores de teste."
      ]
    },
    {
      "cell_type": "code",
      "metadata": {
        "id": "TJQMCCuSFt4V"
      },
      "source": [
        "from sklearn.neighbors import KNeighborsRegressor\n",
        "from sklearn.model_selection import train_test_split\n"
      ],
      "execution_count": 9,
      "outputs": []
    },
    {
      "cell_type": "markdown",
      "metadata": {
        "id": "kumP2XRzR3iH"
      },
      "source": [
        "Inicialmente, os valores para treino e teste são atribuídos. O argumento iloc é um seletor de linhas e/ou colunas. Aqui ele será utilizado para selecionar até a última linha do quadro de dados. "
      ]
    },
    {
      "cell_type": "code",
      "metadata": {
        "id": "j943thrCE7Gl"
      },
      "source": [
        "X = np.array(d1.iloc[:, :-1])\n",
        "y = np.array(d1.iloc[:, 1])\n",
        "\n",
        "X_train, X_test, y_train, y_test = train_test_split(X, y, test_size=0.3, random_state=31)\n"
      ],
      "execution_count": 10,
      "outputs": []
    },
    {
      "cell_type": "markdown",
      "metadata": {
        "id": "vnUrtvZylN4z"
      },
      "source": [
        "Aplica-se a função def kneighbors() da biblioteca Scikit Learn Retorna índices e distâncias dos vizinhos de cada ponto. É importante ressaltar que caso o algoritmo k-NN verificar que dois vizinhos têm a mesma distâncias, mas rótulos diferentes, os resultados dependerão da ordem dos dados de treinamento."
      ]
    },
    {
      "cell_type": "code",
      "metadata": {
        "id": "AkXLColgF7wb"
      },
      "source": [
        "neigh = KNeighborsRegressor(n_neighbors=2)"
      ],
      "execution_count": 11,
      "outputs": []
    },
    {
      "cell_type": "markdown",
      "metadata": {
        "id": "OBYy-EBNmfqJ"
      },
      "source": [
        "A função abaixo ajusta o regressor de *k-neighbors* mais próximos do conjunto de dados de treinamento."
      ]
    },
    {
      "cell_type": "code",
      "metadata": {
        "id": "lPlFMxBDF-72",
        "colab": {
          "base_uri": "https://localhost:8080/",
          "height": 0
        },
        "outputId": "5847befa-055c-4c93-ff44-deeebbc29819"
      },
      "source": [
        "neigh.fit(X, y)"
      ],
      "execution_count": 12,
      "outputs": [
        {
          "output_type": "execute_result",
          "data": {
            "text/plain": [
              "KNeighborsRegressor(algorithm='auto', leaf_size=30, metric='minkowski',\n",
              "                    metric_params=None, n_jobs=None, n_neighbors=2, p=2,\n",
              "                    weights='uniform')"
            ]
          },
          "metadata": {
            "tags": []
          },
          "execution_count": 12
        }
      ]
    },
    {
      "cell_type": "markdown",
      "metadata": {
        "id": "PrDW9DTPm7x0"
      },
      "source": [
        "Já a função *.predict* prevê a meta para os dados fornecidos."
      ]
    },
    {
      "cell_type": "code",
      "metadata": {
        "id": "PKH9P-utGFYx",
        "colab": {
          "base_uri": "https://localhost:8080/",
          "height": 0
        },
        "outputId": "799220e6-6691-48ee-a702-0fe76801ac88"
      },
      "source": [
        "print(neigh.predict([[1.5]]))"
      ],
      "execution_count": 13,
      "outputs": [
        {
          "output_type": "stream",
          "text": [
            "[1.51035]\n"
          ],
          "name": "stdout"
        }
      ]
    },
    {
      "cell_type": "markdown",
      "metadata": {
        "id": "6wvkRS5BnemS"
      },
      "source": [
        "Por meio dos comandos abaixo, é possível verificar a precisão do modelo por meio da função .*score*, bem como o valor de conclusão do melhor modelo."
      ]
    },
    {
      "cell_type": "code",
      "metadata": {
        "id": "1x-ZpVNSHu4e",
        "colab": {
          "base_uri": "https://localhost:8080/",
          "height": 0
        },
        "outputId": "0c2013c3-111c-4614-cda1-4b516ae6e9e6"
      },
      "source": [
        "params = {'n_neighbors': list(range(1, 31))}\n",
        "knn = KNeighborsRegressor(weights = 'distance')\n",
        "\n",
        "search = RandomizedSearchCV(knn, params, n_iter=20, cv=5, scoring='neg_mean_squared_error')\n",
        "search.fit(X_train, y_train)\n",
        "\n",
        "k = search.best_params_['n_neighbors']\n",
        "best_score = np.sqrt(-search.best_score_)\n",
        "\n",
        "print(f'Melhor Modelo - RMSE: {best_score}')\n",
        "print(f'com k = {k}')\n",
        "\n",
        "model = search.best_estimator_\n",
        "y_pred = model.predict(X_test)\n",
        "model_score = np.sqrt(mean_squared_error(y_test, y_pred))\n",
        "\n",
        "print(f'Score do modelo: {model_score}')"
      ],
      "execution_count": 14,
      "outputs": [
        {
          "output_type": "stream",
          "text": [
            "Melhor Modelo - RMSE: 2.8034808460647644\n",
            "com k = 6\n",
            "Score do modelo: 4.5732359504434195\n"
          ],
          "name": "stdout"
        }
      ]
    },
    {
      "cell_type": "markdown",
      "metadata": {
        "id": "guVFtmHTJiTM"
      },
      "source": [
        "### Regressão com uma Variável Algoritmo de indução com árvores de decisão, classe DecisionTreeRegressor"
      ]
    },
    {
      "cell_type": "markdown",
      "metadata": {
        "id": "oWxXJJO4K8lc"
      },
      "source": [
        "Árvores de decisão, ou *Decision Trees (DTs)* é um método de aprendizado supervisionado sem parâmetros usado para classificação e regressão. O objetivo de tal metodologia é criar um modelo que preveja o valor de uma variável de destino, aprendendo regras de decisão simples inferidas dos recursos de dados. Uma árvore pode ser vista como uma aproximação constante por partes.\n",
        "\n",
        "Assim, as árvores de decisão aprendem com os dados a se aproximar de uma curva senoidal com um conjunto de regras de decisão *if-then-else*. Quanto mais profunda a árvore, mais complexas são as regras de decisão e mais adequado é o modelo."
      ]
    },
    {
      "cell_type": "code",
      "metadata": {
        "id": "txN8Gm_UJ4Nt",
        "colab": {
          "base_uri": "https://localhost:8080/",
          "height": 0
        },
        "outputId": "bbb251dd-4337-4567-8348-138df9bc1a8a"
      },
      "source": [
        "params = {'max_depth': [None] + list(range(2, 31)),'criterion': ['mse', 'friedman_mse', 'mae']}\n",
        "dt = DecisionTreeRegressor()\n",
        "\n",
        "search = RandomizedSearchCV(dt, params, n_iter=20, cv=5, scoring='neg_mean_squared_error')\n",
        "search.fit(X_train, y_train)\n",
        "\n",
        "max_depth = search.best_params_['max_depth']\n",
        "criterion = search.best_params_['criterion']\n",
        "best_score = np.sqrt(-search.best_score_)\n",
        "\n",
        "print(f'Melhor Modelo - RMSE: {best_score}')\n",
        "print(f'Altura da árvore: {max_depth}')\n",
        "print(f'Critério de qualidade da divisão: {criterion}')\n",
        "\n",
        "model = search.best_estimator_\n",
        "y_pred = model.predict(X_test)\n",
        "model_score = np.sqrt(mean_squared_error(y_test, y_pred))\n",
        "\n",
        "print(f'Score do modelo: {model_score}')"
      ],
      "execution_count": 15,
      "outputs": [
        {
          "output_type": "stream",
          "text": [
            "Melhor Modelo - RMSE: 2.687099639685001\n",
            "Altura da árvore: 2\n",
            "Critério de qualidade da divisão: friedman_mse\n",
            "Score do modelo: 3.982467715922925\n"
          ],
          "name": "stdout"
        }
      ]
    },
    {
      "cell_type": "markdown",
      "metadata": {
        "id": "wrIPRk8pKsUV"
      },
      "source": [
        "###1.1.2 Regressão com múltiplas variáveis\n"
      ]
    },
    {
      "cell_type": "markdown",
      "metadata": {
        "id": "rJV6hMjNRUA4"
      },
      "source": [
        "Carregamento e visualização dos dados:"
      ]
    },
    {
      "cell_type": "code",
      "metadata": {
        "id": "DGBRt0NVKrbQ",
        "colab": {
          "base_uri": "https://localhost:8080/",
          "height": 204
        },
        "outputId": "07b00810-0258-4860-a7cc-0c606c914876"
      },
      "source": [
        "arquivo2 = 'https://raw.githubusercontent.com/MLRG-CEFET-RJ/ml-class/master/ml-t1/data/ex1data2.txt'\n",
        "dados2 = pd.read_table(arquivo2,\n",
        "                      sep=',',\n",
        "                      header=None,\n",
        "                      names=['Tamanho', 'Cômodos', 'Preço'])\n",
        "\n",
        "dados2.head()"
      ],
      "execution_count": 16,
      "outputs": [
        {
          "output_type": "execute_result",
          "data": {
            "text/html": [
              "<div>\n",
              "<style scoped>\n",
              "    .dataframe tbody tr th:only-of-type {\n",
              "        vertical-align: middle;\n",
              "    }\n",
              "\n",
              "    .dataframe tbody tr th {\n",
              "        vertical-align: top;\n",
              "    }\n",
              "\n",
              "    .dataframe thead th {\n",
              "        text-align: right;\n",
              "    }\n",
              "</style>\n",
              "<table border=\"1\" class=\"dataframe\">\n",
              "  <thead>\n",
              "    <tr style=\"text-align: right;\">\n",
              "      <th></th>\n",
              "      <th>Tamanho</th>\n",
              "      <th>Cômodos</th>\n",
              "      <th>Preço</th>\n",
              "    </tr>\n",
              "  </thead>\n",
              "  <tbody>\n",
              "    <tr>\n",
              "      <th>0</th>\n",
              "      <td>2104</td>\n",
              "      <td>3</td>\n",
              "      <td>399900</td>\n",
              "    </tr>\n",
              "    <tr>\n",
              "      <th>1</th>\n",
              "      <td>1600</td>\n",
              "      <td>3</td>\n",
              "      <td>329900</td>\n",
              "    </tr>\n",
              "    <tr>\n",
              "      <th>2</th>\n",
              "      <td>2400</td>\n",
              "      <td>3</td>\n",
              "      <td>369000</td>\n",
              "    </tr>\n",
              "    <tr>\n",
              "      <th>3</th>\n",
              "      <td>1416</td>\n",
              "      <td>2</td>\n",
              "      <td>232000</td>\n",
              "    </tr>\n",
              "    <tr>\n",
              "      <th>4</th>\n",
              "      <td>3000</td>\n",
              "      <td>4</td>\n",
              "      <td>539900</td>\n",
              "    </tr>\n",
              "  </tbody>\n",
              "</table>\n",
              "</div>"
            ],
            "text/plain": [
              "   Tamanho  Cômodos   Preço\n",
              "0     2104        3  399900\n",
              "1     1600        3  329900\n",
              "2     2400        3  369000\n",
              "3     1416        2  232000\n",
              "4     3000        4  539900"
            ]
          },
          "metadata": {
            "tags": []
          },
          "execution_count": 16
        }
      ]
    },
    {
      "cell_type": "code",
      "metadata": {
        "id": "FnARiz2IL0mc"
      },
      "source": [
        "X2 = np.array(dados2.iloc[:, :-1])\n",
        "y2 = np.array(dados2.iloc[:, 1])\n",
        "X2_train, X2_test, y2_train, y2_test = train_test_split(X, y, test_size=0.3, random_state=31)"
      ],
      "execution_count": 17,
      "outputs": []
    },
    {
      "cell_type": "markdown",
      "metadata": {
        "id": "D7OEzr4uMvSJ"
      },
      "source": [
        "A seguir, realizar-se-á a normalização por *StandardScaler*. Trata-se de uma técnica comum em aprendizado de máquina cujo objetivo é alterar os valores das colunas numéricas no conjunto de dados. Além disso, é necessária para que alguns algoritmos de modelagem de dados funcionem corretamente. Desta forma, uma escala comum é aplicada, mas sem modificar as diferenças nos intervalos de valores ou perder informações. \n",
        "\n",
        "O *estimator* reajustado é disponibilizado no atributo best_estimator_ e permite o uso de previsão diretamente na instância randomGrd_search.\n",
        "\n",
        "Já os parâmentros de teste são definidos em \"*params = *\""
      ]
    },
    {
      "cell_type": "markdown",
      "metadata": {
        "id": "70-VTwqJN33P"
      },
      "source": [
        "### Regressão com Múltiplas Variáveis - Algoritmo k-NN"
      ]
    },
    {
      "cell_type": "code",
      "metadata": {
        "id": "rLyKbY6YL8Ng",
        "colab": {
          "base_uri": "https://localhost:8080/",
          "height": 0
        },
        "outputId": "438a84f5-fc12-4ae7-8ae1-1262b851dc86"
      },
      "source": [
        "ss = StandardScaler()\n",
        "X_train_norm = ss.fit_transform(X_train)\n",
        "\n",
        "params = {'n_neighbors': list(range(1, 21))}\n",
        "knn = KNeighborsRegressor(weights = 'distance')\n",
        "\n",
        "search = RandomizedSearchCV(knn, params, n_iter=20, cv=10, scoring='neg_mean_squared_error')\n",
        "search.fit(X_train_norm, y_train)\n",
        "\n",
        "k = search.best_params_['n_neighbors']\n",
        "best_score = np.sqrt(-search.best_score_)\n",
        "\n",
        "print(f'Melhor Modelo - RMSE: {best_score}')\n",
        "print(f'Com k = {k}')\n",
        "\n",
        "model = search.best_estimator_\n",
        "X_test_norm = ss.fit_transform(X_test)\n",
        "y_pred = model.predict(X_test)\n",
        "model_score = np.sqrt(mean_squared_error(y_test, y_pred))\n",
        "\n",
        "print(f'Score do modelo: {model_score}')"
      ],
      "execution_count": 18,
      "outputs": [
        {
          "output_type": "stream",
          "text": [
            "Melhor Modelo - RMSE: 3.0355765854733057\n",
            "Com k = 9\n",
            "Score do modelo: 13.83450381364281\n"
          ],
          "name": "stdout"
        }
      ]
    },
    {
      "cell_type": "markdown",
      "metadata": {
        "id": "x5CMTselOND-"
      },
      "source": [
        "### Regressão com Múltiplas Variáveis - Algoritmo de indução de árevore de decisão"
      ]
    },
    {
      "cell_type": "code",
      "metadata": {
        "id": "aE2i62sbMHKE",
        "colab": {
          "base_uri": "https://localhost:8080/",
          "height": 0
        },
        "outputId": "baadbb41-34d7-4360-df07-ac04c6143dc9"
      },
      "source": [
        "\n",
        "params = {'max_depth': [None] + list(range(2, 31)),'criterion': ['mse', 'friedman_mse', 'mae']}\n",
        "dt = DecisionTreeRegressor()\n",
        "\n",
        "search = RandomizedSearchCV(dt, params, n_iter=20, cv=10, scoring='neg_mean_squared_error')\n",
        "search.fit(X_train_norm, y_train)\n",
        "\n",
        "max_depth = search.best_params_['max_depth']\n",
        "criterion = search.best_params_['criterion']\n",
        "best_score = np.sqrt(-search.best_score_)\n",
        "\n",
        "print(f'Melhor Modelo - RMSE: {best_score}')\n",
        "print(f'Altura da árvore: {max_depth}')\n",
        "print(f'Critério de qualidade da divisão: {criterion}')\n",
        "\n",
        "model = search.best_estimator_\n",
        "y_pred = model.predict(X_test)\n",
        "model_score = np.sqrt(mean_squared_error(y_test, y_pred))\n",
        "\n",
        "print(f'Score do modelo: {model_score}')"
      ],
      "execution_count": 19,
      "outputs": [
        {
          "output_type": "stream",
          "text": [
            "Melhor Modelo - RMSE: 2.860275716669729\n",
            "Altura da árvore: 2\n",
            "Critério de qualidade da divisão: mse\n",
            "Score do modelo: 16.684082479025133\n"
          ],
          "name": "stdout"
        }
      ]
    },
    {
      "cell_type": "markdown",
      "metadata": {
        "id": "ftBw0Y6zMUaR"
      },
      "source": [
        "##1.2 Aprendizado de Classificadores"
      ]
    },
    {
      "cell_type": "markdown",
      "metadata": {
        "id": "lgCo-dSnpiM8"
      },
      "source": [
        "Reimporta-se as bibliotecas acima a fim de otimizar o tempo no Googles Colab.\n",
        "Novas bibliotecas foram acrescentadas a fim de possibilitar a execução das tarefas de ajustes e avaliação dos modelos:\n",
        "\n"
      ]
    },
    {
      "cell_type": "code",
      "metadata": {
        "id": "PxTt8RBkQjpx"
      },
      "source": [
        "import pandas as pd\n",
        "import numpy as np\n",
        "import matplotlib.pyplot as plt\n",
        "import seaborn as sns\n",
        "\n",
        "from sklearn.naive_bayes import GaussianNB\n",
        "from sklearn.linear_model import LogisticRegression\n",
        "from sklearn.model_selection import train_test_split\n",
        "from sklearn.neighbors import KNeighborsClassifier\n",
        "from sklearn.tree import DecisionTreeClassifier\n",
        "from sklearn.preprocessing import PolynomialFeatures\n",
        "from sklearn.metrics import classification_report\n",
        "from sklearn import metrics"
      ],
      "execution_count": 20,
      "outputs": []
    },
    {
      "cell_type": "markdown",
      "metadata": {
        "id": "iauS-KozRO8O"
      },
      "source": [
        "Carregamento dos dados:"
      ]
    },
    {
      "cell_type": "code",
      "metadata": {
        "id": "2kXpEphMvt8y",
        "colab": {
          "base_uri": "https://localhost:8080/",
          "height": 204
        },
        "outputId": "227d5728-e5cd-4f4e-e051-c99b41eb4d6e"
      },
      "source": [
        "arquivo3 = 'https://raw.githubusercontent.com/MLRG-CEFET-RJ/ml-class/master/ml-t1/data/ex2data1.txt'\n",
        "dados3 = pd.read_table(arquivo3,\n",
        "                      sep=',',\n",
        "                      header=None,\n",
        "                      names=['Prova 1', 'Prova 2', 'Aprovado'])\n",
        "dados3.head()"
      ],
      "execution_count": 21,
      "outputs": [
        {
          "output_type": "execute_result",
          "data": {
            "text/html": [
              "<div>\n",
              "<style scoped>\n",
              "    .dataframe tbody tr th:only-of-type {\n",
              "        vertical-align: middle;\n",
              "    }\n",
              "\n",
              "    .dataframe tbody tr th {\n",
              "        vertical-align: top;\n",
              "    }\n",
              "\n",
              "    .dataframe thead th {\n",
              "        text-align: right;\n",
              "    }\n",
              "</style>\n",
              "<table border=\"1\" class=\"dataframe\">\n",
              "  <thead>\n",
              "    <tr style=\"text-align: right;\">\n",
              "      <th></th>\n",
              "      <th>Prova 1</th>\n",
              "      <th>Prova 2</th>\n",
              "      <th>Aprovado</th>\n",
              "    </tr>\n",
              "  </thead>\n",
              "  <tbody>\n",
              "    <tr>\n",
              "      <th>0</th>\n",
              "      <td>34.623660</td>\n",
              "      <td>78.024693</td>\n",
              "      <td>0</td>\n",
              "    </tr>\n",
              "    <tr>\n",
              "      <th>1</th>\n",
              "      <td>30.286711</td>\n",
              "      <td>43.894998</td>\n",
              "      <td>0</td>\n",
              "    </tr>\n",
              "    <tr>\n",
              "      <th>2</th>\n",
              "      <td>35.847409</td>\n",
              "      <td>72.902198</td>\n",
              "      <td>0</td>\n",
              "    </tr>\n",
              "    <tr>\n",
              "      <th>3</th>\n",
              "      <td>60.182599</td>\n",
              "      <td>86.308552</td>\n",
              "      <td>1</td>\n",
              "    </tr>\n",
              "    <tr>\n",
              "      <th>4</th>\n",
              "      <td>79.032736</td>\n",
              "      <td>75.344376</td>\n",
              "      <td>1</td>\n",
              "    </tr>\n",
              "  </tbody>\n",
              "</table>\n",
              "</div>"
            ],
            "text/plain": [
              "     Prova 1    Prova 2  Aprovado\n",
              "0  34.623660  78.024693         0\n",
              "1  30.286711  43.894998         0\n",
              "2  35.847409  72.902198         0\n",
              "3  60.182599  86.308552         1\n",
              "4  79.032736  75.344376         1"
            ]
          },
          "metadata": {
            "tags": []
          },
          "execution_count": 21
        }
      ]
    },
    {
      "cell_type": "code",
      "metadata": {
        "id": "RbPHlYxFQ7Gz"
      },
      "source": [
        "X3 = np.array(dados3.iloc[:, :-1])\n",
        "y3 = np.array(dados3.iloc[:, -1])\n",
        "X3_train, X3_test, y3_train, y3_test = train_test_split(X, y, test_size=0.2, random_state=31)"
      ],
      "execution_count": 22,
      "outputs": []
    },
    {
      "cell_type": "markdown",
      "metadata": {
        "id": "3BZbLq5tQdCM"
      },
      "source": [
        "1.2.1 Visualização dos dados:"
      ]
    },
    {
      "cell_type": "markdown",
      "metadata": {
        "id": "O7FetvB2VTjp"
      },
      "source": [
        "Optou-se por importar novamente os dados e apresentar a tabela a fim de evitar problemas na visualização do gráfico de dispersao. A função abaixo permite o carregamento dos dados."
      ]
    },
    {
      "cell_type": "code",
      "metadata": {
        "id": "tapRupcFUrT8"
      },
      "source": [
        "def importarDados(filepath, names):\n",
        "    path = os.getcwd() + filepath  \n",
        "    data = pd.read_csv(path, header=None, names=names)\n",
        "\n",
        "    X = data.iloc[:, 0:-1].values\n",
        "    y = data.iloc[:, -1:].values\n",
        "\n",
        "    return X, y"
      ],
      "execution_count": 23,
      "outputs": []
    },
    {
      "cell_type": "markdown",
      "metadata": {
        "id": "bIYKXWeuqWe0"
      },
      "source": [
        "Visualiação dos dados"
      ]
    },
    {
      "cell_type": "code",
      "metadata": {
        "id": "f5pDIUCKVCzV",
        "colab": {
          "base_uri": "https://localhost:8080/",
          "height": 204
        },
        "outputId": "db5a30db-c455-42dc-d005-f2fe600b7102"
      },
      "source": [
        "f3 = pd.read_csv(\"ex2data1.txt\", names = [\"Avaliação 1\", \"Avaliação 2\", \"Classificação\"])\n",
        "f3.head()"
      ],
      "execution_count": 24,
      "outputs": [
        {
          "output_type": "execute_result",
          "data": {
            "text/html": [
              "<div>\n",
              "<style scoped>\n",
              "    .dataframe tbody tr th:only-of-type {\n",
              "        vertical-align: middle;\n",
              "    }\n",
              "\n",
              "    .dataframe tbody tr th {\n",
              "        vertical-align: top;\n",
              "    }\n",
              "\n",
              "    .dataframe thead th {\n",
              "        text-align: right;\n",
              "    }\n",
              "</style>\n",
              "<table border=\"1\" class=\"dataframe\">\n",
              "  <thead>\n",
              "    <tr style=\"text-align: right;\">\n",
              "      <th></th>\n",
              "      <th>Avaliação 1</th>\n",
              "      <th>Avaliação 2</th>\n",
              "      <th>Classificação</th>\n",
              "    </tr>\n",
              "  </thead>\n",
              "  <tbody>\n",
              "    <tr>\n",
              "      <th>0</th>\n",
              "      <td>34.623660</td>\n",
              "      <td>78.024693</td>\n",
              "      <td>0</td>\n",
              "    </tr>\n",
              "    <tr>\n",
              "      <th>1</th>\n",
              "      <td>30.286711</td>\n",
              "      <td>43.894998</td>\n",
              "      <td>0</td>\n",
              "    </tr>\n",
              "    <tr>\n",
              "      <th>2</th>\n",
              "      <td>35.847409</td>\n",
              "      <td>72.902198</td>\n",
              "      <td>0</td>\n",
              "    </tr>\n",
              "    <tr>\n",
              "      <th>3</th>\n",
              "      <td>60.182599</td>\n",
              "      <td>86.308552</td>\n",
              "      <td>1</td>\n",
              "    </tr>\n",
              "    <tr>\n",
              "      <th>4</th>\n",
              "      <td>79.032736</td>\n",
              "      <td>75.344376</td>\n",
              "      <td>1</td>\n",
              "    </tr>\n",
              "  </tbody>\n",
              "</table>\n",
              "</div>"
            ],
            "text/plain": [
              "   Avaliação 1  Avaliação 2  Classificação\n",
              "0    34.623660    78.024693              0\n",
              "1    30.286711    43.894998              0\n",
              "2    35.847409    72.902198              0\n",
              "3    60.182599    86.308552              1\n",
              "4    79.032736    75.344376              1"
            ]
          },
          "metadata": {
            "tags": []
          },
          "execution_count": 24
        }
      ]
    },
    {
      "cell_type": "code",
      "metadata": {
        "id": "NOpLcjaFUsO-"
      },
      "source": [
        "X3, y3 = importarDados(filepath=\"/ex2data1.txt\", names = [\"Avaliação 1\", \"Avaliação 2\", \"Classificação\"])"
      ],
      "execution_count": 25,
      "outputs": []
    },
    {
      "cell_type": "markdown",
      "metadata": {
        "id": "TpWXjg-qVSRB"
      },
      "source": [
        "A seguir, aplica-se o comando para visualização do gráfico de dispersão a fim de exibir os dados em gráfico."
      ]
    },
    {
      "cell_type": "code",
      "metadata": {
        "id": "6JNh2YkSTeMV"
      },
      "source": [
        "def plot3(data, filename = 'target/plot3.1.png'):\n",
        "   \n",
        "    positivo = data[data['Classificação'].isin([1])]\n",
        "    negativo = data[data['Classificação'].isin([0])]\n",
        "\n",
        "    fig, ax = plt.subplots(figsize=(12,8))\n",
        "    ax.scatter(positivo['Avaliação 1'], positivo['Avaliação 2'], s=50, c='k', marker='+', label='Classificado')\n",
        "    ax.scatter(negativo['Avaliação 1'], negativo['Avaliação 2'], s=50, c='y', marker='o', label='Não Classificado')\n",
        "    ax.legend()\n",
        "    ax.set_xlabel('Nota da Avaliação 1')\n",
        "    ax.set_ylabel('Nota da Avaliação 2')\n",
        "\n",
        "    if not os.path.exists(os.path.dirname(filename)):\n",
        "        os.makedirs(os.path.dirname(filename))\n",
        "\n",
        "    plt.savefig(filename)\n",
        "    plt.show()"
      ],
      "execution_count": 26,
      "outputs": []
    },
    {
      "cell_type": "markdown",
      "metadata": {
        "id": "M4QbzimgVlMT"
      },
      "source": [
        "É possível inferir pela imagem abaixo que apenas uma nota muito alta em apenas uma das valiações não garante a aprovação do aluno. Sendo assim, é possível sugerir que as notas são dadas por média aritmética com peso 1 para cada uma das avaliações."
      ]
    },
    {
      "cell_type": "code",
      "metadata": {
        "id": "fdYBwggSTn_2",
        "colab": {
          "base_uri": "https://localhost:8080/",
          "height": 497
        },
        "outputId": "5a69c9e3-057e-4f3a-f334-00b887535cd9"
      },
      "source": [
        "plot3(f3)"
      ],
      "execution_count": 27,
      "outputs": [
        {
          "output_type": "display_data",
          "data": {
            "image/png": "[encoded data removed]",
            "text/plain": [
              "<Figure size 864x576 with 1 Axes>"
            ]
          },
          "metadata": {
            "tags": [],
            "needs_background": "light"
          }
        }
      ]
    },
    {
      "cell_type": "markdown",
      "metadata": {
        "id": "pCoS5a1hVqwU"
      },
      "source": [
        "###1.2.2 Ajuste dos modelos"
      ]
    },
    {
      "cell_type": "markdown",
      "metadata": {
        "id": "vP5dw9YEVouw"
      },
      "source": [
        "A criação de modelos de classificação com base nos algoritmos Naive Bayes, Regressão Logística, k-NN e Decision Tree.\n",
        "\n",
        "Como já informado, primeiramente, é necessário carregar as bibliotecas do sklearn utilizadas para classificações baseadas nos algoritmos supracitados:"
      ]
    },
    {
      "cell_type": "markdown",
      "metadata": {
        "id": "p9ZsU03fVzj8"
      },
      "source": [
        "###1.2.2 Ajuste dos modelos - Naïve Bayes, classe GaussianNB;\n",
        "###1.3.3 Avaliação dos modelos"
      ]
    },
    {
      "cell_type": "markdown",
      "metadata": {
        "id": "Hfmm4_cKV3uk"
      },
      "source": [
        "\n",
        "Inicialmente, ajusta-se o modelo Gaussian. Para tanto, a função Gaussian Naïve Bayes (GaussianNB) foi aplicada ao modelo Naïve Bayes sem sintonização de hiperparâmetros\n",
        "\n",
        "O método Naive Bayes é um conjunto de algoritmos de aprendizagem supervisionada com base na aplicação do teorema de Bayes. Possui suposição \"ingênua\" de independência condicional entre cada par de recursos dado o valor da variável de classe.\n",
        "\n",
        "O ajuste de modelos por Gaussian Naive Bayes (GaussianNB), é capaz de executar atualizações online para os parâmetros do modelo por meio de partial_fit.\n",
        "\n",
        "Alguns testes foram executados a fim de visializar a execução de alguns dos métodos utilizados pela scikit learn para o ajuste de modelos:\n",
        "\n",
        "fit(X, y[, sample_weight]) - Ajusta a Gaussian Naive Bayes de acordo com X, y"
      ]
    },
    {
      "cell_type": "code",
      "metadata": {
        "id": "eQtM2IoQljvg"
      },
      "source": [
        "from sklearn.model_selection import train_test_split"
      ],
      "execution_count": 28,
      "outputs": []
    },
    {
      "cell_type": "code",
      "metadata": {
        "id": "U-5qVi5roqKa"
      },
      "source": [
        "\n",
        "filepath = 'https://raw.githubusercontent.com/MLRG-CEFET-RJ/ml-class/master/ml-t1/data/ex2data1.txt'\n",
        "\n",
        "df1 = pd.read_csv(filepath, header=None, names=['Prova 1', 'Prova 2', 'Aprovado'])"
      ],
      "execution_count": 29,
      "outputs": []
    },
    {
      "cell_type": "code",
      "metadata": {
        "id": "LOtFHKgGxZbV",
        "colab": {
          "base_uri": "https://localhost:8080/",
          "height": 297
        },
        "outputId": "e003d70e-c0db-4b6d-d03f-2d0fd5b7be6a"
      },
      "source": [
        "df1.describe()"
      ],
      "execution_count": 30,
      "outputs": [
        {
          "output_type": "execute_result",
          "data": {
            "text/html": [
              "<div>\n",
              "<style scoped>\n",
              "    .dataframe tbody tr th:only-of-type {\n",
              "        vertical-align: middle;\n",
              "    }\n",
              "\n",
              "    .dataframe tbody tr th {\n",
              "        vertical-align: top;\n",
              "    }\n",
              "\n",
              "    .dataframe thead th {\n",
              "        text-align: right;\n",
              "    }\n",
              "</style>\n",
              "<table border=\"1\" class=\"dataframe\">\n",
              "  <thead>\n",
              "    <tr style=\"text-align: right;\">\n",
              "      <th></th>\n",
              "      <th>Prova 1</th>\n",
              "      <th>Prova 2</th>\n",
              "      <th>Aprovado</th>\n",
              "    </tr>\n",
              "  </thead>\n",
              "  <tbody>\n",
              "    <tr>\n",
              "      <th>count</th>\n",
              "      <td>100.000000</td>\n",
              "      <td>100.000000</td>\n",
              "      <td>100.000000</td>\n",
              "    </tr>\n",
              "    <tr>\n",
              "      <th>mean</th>\n",
              "      <td>65.644274</td>\n",
              "      <td>66.221998</td>\n",
              "      <td>0.600000</td>\n",
              "    </tr>\n",
              "    <tr>\n",
              "      <th>std</th>\n",
              "      <td>19.458222</td>\n",
              "      <td>18.582783</td>\n",
              "      <td>0.492366</td>\n",
              "    </tr>\n",
              "    <tr>\n",
              "      <th>min</th>\n",
              "      <td>30.058822</td>\n",
              "      <td>30.603263</td>\n",
              "      <td>0.000000</td>\n",
              "    </tr>\n",
              "    <tr>\n",
              "      <th>25%</th>\n",
              "      <td>50.919511</td>\n",
              "      <td>48.179205</td>\n",
              "      <td>0.000000</td>\n",
              "    </tr>\n",
              "    <tr>\n",
              "      <th>50%</th>\n",
              "      <td>67.032988</td>\n",
              "      <td>67.682381</td>\n",
              "      <td>1.000000</td>\n",
              "    </tr>\n",
              "    <tr>\n",
              "      <th>75%</th>\n",
              "      <td>80.212529</td>\n",
              "      <td>79.360605</td>\n",
              "      <td>1.000000</td>\n",
              "    </tr>\n",
              "    <tr>\n",
              "      <th>max</th>\n",
              "      <td>99.827858</td>\n",
              "      <td>98.869436</td>\n",
              "      <td>1.000000</td>\n",
              "    </tr>\n",
              "  </tbody>\n",
              "</table>\n",
              "</div>"
            ],
            "text/plain": [
              "          Prova 1     Prova 2    Aprovado\n",
              "count  100.000000  100.000000  100.000000\n",
              "mean    65.644274   66.221998    0.600000\n",
              "std     19.458222   18.582783    0.492366\n",
              "min     30.058822   30.603263    0.000000\n",
              "25%     50.919511   48.179205    0.000000\n",
              "50%     67.032988   67.682381    1.000000\n",
              "75%     80.212529   79.360605    1.000000\n",
              "max     99.827858   98.869436    1.000000"
            ]
          },
          "metadata": {
            "tags": []
          },
          "execution_count": 30
        }
      ]
    },
    {
      "cell_type": "markdown",
      "metadata": {
        "id": "JsM-f4PjrBsC"
      },
      "source": [
        "A seguir, far-se-á alguns comentários no código a fim de facilitar a visualizaçãoo das informações."
      ]
    },
    {
      "cell_type": "code",
      "metadata": {
        "id": "gE8z6HDtxk8Z"
      },
      "source": [
        "from sklearn.tree import DecisionTreeClassifier #DTree\n",
        "from sklearn.naive_bayes import GaussianNB #NBayes\n",
        "from sklearn.linear_model import LogisticRegression #Regressão Logística\n",
        "from sklearn.neighbors import KNeighborsClassifier #KNN Classificação\n",
        "from sklearn.preprocessing import PolynomialFeatures #Polynomial\n",
        "from sklearn.metrics import classification_report #Matriz de Confusão\n",
        "from sklearn import metrics #Gerar a classificação dos modelos\n",
        "import seaborn as sns #Plotar Gráficos\n",
        "import matplotlib.pyplot as plt #Plotar Gráficos\n",
        "\n",
        "#divide features(X) do target (y)\n",
        "X_df = np.array(df1.iloc[:, :-1])\n",
        "y_df = np.array(df1.iloc[:, -1])\n",
        "#divide em treino e teste\n",
        "X_train, X_test, y_train, y_test = train_test_split(X_df, y_df, test_size=0.2, random_state=27) #separa 20% para teste"
      ],
      "execution_count": 31,
      "outputs": []
    },
    {
      "cell_type": "markdown",
      "metadata": {
        "id": "-ZEEOrIPrRf7"
      },
      "source": [
        "Mostrando os cinco primeiros valores do X de treino"
      ]
    },
    {
      "cell_type": "code",
      "metadata": {
        "id": "bhKXD29bx9fq",
        "colab": {
          "base_uri": "https://localhost:8080/",
          "height": 0
        },
        "outputId": "97e5fd7a-cede-4086-d85a-e42667ea4126"
      },
      "source": [
        "\n",
        "X_train[:5,:]"
      ],
      "execution_count": 32,
      "outputs": [
        {
          "output_type": "execute_result",
          "data": {
            "text/plain": [
              "array([[94.09433113, 77.15910509],\n",
              "       [97.77159928, 86.72782233],\n",
              "       [70.66150955, 92.92713789],\n",
              "       [74.49269242, 84.84513685],\n",
              "       [75.47770201, 90.424539  ]])"
            ]
          },
          "metadata": {
            "tags": []
          },
          "execution_count": 32
        }
      ]
    },
    {
      "cell_type": "code",
      "metadata": {
        "id": "QVeWDXsky2Lj",
        "colab": {
          "base_uri": "https://localhost:8080/",
          "height": 434
        },
        "outputId": "9a0c0547-b461-408f-bb93-e39973ffce42"
      },
      "source": [
        "#ajuste de modelo\n",
        "model_bayes = GaussianNB()\n",
        "model_bayes.fit(X_train,y_train)\n",
        "#predição\n",
        "y_pred_bayes = model_bayes.predict(X_test)\n",
        "#matriz confusão\n",
        "cm_nb = metrics.confusion_matrix(y_test,y_pred_bayes)\n",
        "sns.heatmap(cm_nb, annot=True)\n",
        "plt.title('Matriz de Confusão - Naive Bayes')\n",
        "plt.show()\n",
        "#métricas de desempenho padrão\n",
        "print(classification_report(y_test, y_pred_bayes))"
      ],
      "execution_count": 33,
      "outputs": [
        {
          "output_type": "display_data",
          "data": {
            "image/png": "[encoded data removed]",
            "text/plain": [
              "<Figure size 432x288 with 2 Axes>"
            ]
          },
          "metadata": {
            "tags": [],
            "needs_background": "light"
          }
        },
        {
          "output_type": "stream",
          "text": [
            "              precision    recall  f1-score   support\n",
            "\n",
            "           0       1.00      0.78      0.88         9\n",
            "           1       0.85      1.00      0.92        11\n",
            "\n",
            "    accuracy                           0.90        20\n",
            "   macro avg       0.92      0.89      0.90        20\n",
            "weighted avg       0.92      0.90      0.90        20\n",
            "\n"
          ],
          "name": "stdout"
        }
      ]
    },
    {
      "cell_type": "markdown",
      "metadata": {
        "id": "hDeiW-lmDM1N"
      },
      "source": [
        "###Ajuste e avaliação dos modelos - Regressão Logística"
      ]
    },
    {
      "cell_type": "markdown",
      "metadata": {
        "id": "3AbGUpDpDf6B"
      },
      "source": [
        "Importante observar que em casos com múltiplas classes, o algoritmo de treinamento usa o esquema *one-vs-rest (OvR)* quando a opção *ovr* está configurada. Caso a configuração seja *multinomial*, o algoritmo utilizará a perda de entropia cruzada. \n",
        "\n",
        "\n",
        "\n"
      ]
    },
    {
      "cell_type": "code",
      "metadata": {
        "id": "zZQ4GL3_Deu_",
        "colab": {
          "base_uri": "https://localhost:8080/",
          "height": 434
        },
        "outputId": "327dd05f-14fc-47a8-aea1-83d0dcfa65e7"
      },
      "source": [
        "#ajuste de modelo\n",
        "model_reglog = LogisticRegression()\n",
        "model_reglog.fit(X_train,y_train)\n",
        "#predição\n",
        "y_pred_reglog = model_reglog.predict(X_test)\n",
        "#matriz confusão\n",
        "cm_reglog = metrics.confusion_matrix(y_test,y_pred_reglog)\n",
        "sns.heatmap(cm_reglog, annot=True)\n",
        "plt.title('Matriz de Confusão - Naive Bayes')\n",
        "plt.show()\n",
        "#métricas de desempenho padrão\n",
        "print(classification_report(y_test, y_pred_reglog))"
      ],
      "execution_count": 34,
      "outputs": [
        {
          "output_type": "display_data",
          "data": {
            "image/png": "[encoded data removed]",
            "text/plain": [
              "<Figure size 432x288 with 2 Axes>"
            ]
          },
          "metadata": {
            "tags": [],
            "needs_background": "light"
          }
        },
        {
          "output_type": "stream",
          "text": [
            "              precision    recall  f1-score   support\n",
            "\n",
            "           0       1.00      0.78      0.88         9\n",
            "           1       0.85      1.00      0.92        11\n",
            "\n",
            "    accuracy                           0.90        20\n",
            "   macro avg       0.92      0.89      0.90        20\n",
            "weighted avg       0.92      0.90      0.90        20\n",
            "\n"
          ],
          "name": "stdout"
        }
      ]
    },
    {
      "cell_type": "markdown",
      "metadata": {
        "id": "rM-38qd2EdsK"
      },
      "source": [
        "###Ajuste e avaliação dos modelos - kNN"
      ]
    },
    {
      "cell_type": "code",
      "metadata": {
        "id": "uFeHu9HsEZzn",
        "colab": {
          "base_uri": "https://localhost:8080/",
          "height": 434
        },
        "outputId": "f3fd137f-1d47-4ffc-c19e-85de35c627f3"
      },
      "source": [
        "#ajuste de modelo\n",
        "model_knn = KNeighborsClassifier()\n",
        "model_knn.fit(X_train,y_train)\n",
        "#predição\n",
        "y_pred_knn = model_knn.predict(X_test)\n",
        "#matriz confusão\n",
        "cm_knn = metrics.confusion_matrix(y_test,y_pred_knn)\n",
        "sns.heatmap(cm_knn, annot=True)\n",
        "plt.title('Matriz de Confusão - Naive Bayes')\n",
        "plt.show()\n",
        "#métricas de desempenho padrão\n",
        "print(classification_report(y_test, y_pred_knn))"
      ],
      "execution_count": 35,
      "outputs": [
        {
          "output_type": "display_data",
          "data": {
            "image/png": "[encoded data removed]",
            "text/plain": [
              "<Figure size 432x288 with 2 Axes>"
            ]
          },
          "metadata": {
            "tags": [],
            "needs_background": "light"
          }
        },
        {
          "output_type": "stream",
          "text": [
            "              precision    recall  f1-score   support\n",
            "\n",
            "           0       1.00      0.67      0.80         9\n",
            "           1       0.79      1.00      0.88        11\n",
            "\n",
            "    accuracy                           0.85        20\n",
            "   macro avg       0.89      0.83      0.84        20\n",
            "weighted avg       0.88      0.85      0.84        20\n",
            "\n"
          ],
          "name": "stdout"
        }
      ]
    },
    {
      "cell_type": "markdown",
      "metadata": {
        "id": "scHan67jE54u"
      },
      "source": [
        "### Ajuste e avaliação dos modelos - Árvore de decisão"
      ]
    },
    {
      "cell_type": "code",
      "metadata": {
        "id": "AV2ykx_sFAqt",
        "colab": {
          "base_uri": "https://localhost:8080/",
          "height": 434
        },
        "outputId": "2faefed8-31ae-4d99-e267-5e70e0d4f7ad"
      },
      "source": [
        "#ajuste de modelo\n",
        "model_dt = DecisionTreeClassifier()\n",
        "model_dt.fit(X_train,y_train)\n",
        "#predição\n",
        "y_pred_dt = model_dt.predict(X_test)\n",
        "#matriz confusão\n",
        "cm_dt = metrics.confusion_matrix(y_test,y_pred_dt)\n",
        "sns.heatmap(cm_dt, annot=True)\n",
        "plt.title('Matriz de Confusão - Naive Bayes')\n",
        "plt.show()\n",
        "#métricas de desempenho padrão\n",
        "print(classification_report(y_test, y_pred_dt))"
      ],
      "execution_count": 36,
      "outputs": [
        {
          "output_type": "display_data",
          "data": {
            "image/png": "[encoded data removed]",
            "text/plain": [
              "<Figure size 432x288 with 2 Axes>"
            ]
          },
          "metadata": {
            "tags": [],
            "needs_background": "light"
          }
        },
        {
          "output_type": "stream",
          "text": [
            "              precision    recall  f1-score   support\n",
            "\n",
            "           0       1.00      0.78      0.88         9\n",
            "           1       0.85      1.00      0.92        11\n",
            "\n",
            "    accuracy                           0.90        20\n",
            "   macro avg       0.92      0.89      0.90        20\n",
            "weighted avg       0.92      0.90      0.90        20\n",
            "\n"
          ],
          "name": "stdout"
        }
      ]
    },
    {
      "cell_type": "markdown",
      "metadata": {
        "id": "oNS1vUPrFuJf"
      },
      "source": [
        "###1.2.4 Mapeamento de Caracteristicas"
      ]
    },
    {
      "cell_type": "markdown",
      "metadata": {
        "id": "pZYWP9rrygNE"
      },
      "source": [
        "Incialmente, importa-se a função *PolynomialFeatures da SkLearn. Com ela, é possível gerar uma nova matriz de *features* composta de todas as combinações polinomiais dos *features* com grau menor ou igual ao grau especificado. Assim, no caso de um amostra de entrada bidimensional de forma [a, b], trazendo novos *features* recursos polinomiais de grau 2, representados por [1, a, b, a ^ 2, ab, b ^ 2].\n",
        "\n",
        "É importante ressaltar que a matriz de saída escala polinomialmente no número de *features* da matriz de entrada e exponencialmente seu grau. Desta forma, essa elevação de graus pode causar ***overfitting***."
      ]
    },
    {
      "cell_type": "code",
      "metadata": {
        "id": "kbq0cEqYZBvu"
      },
      "source": [
        "from sklearn.preprocessing import PolynomialFeatures"
      ],
      "execution_count": 37,
      "outputs": []
    },
    {
      "cell_type": "markdown",
      "metadata": {
        "id": "lpYmBjd-0Cyh"
      },
      "source": [
        "Aplicação da função *PolynomialFeatures* seguida da .fit,  que irá calcular o número de recursos de saída."
      ]
    },
    {
      "cell_type": "code",
      "metadata": {
        "id": "bQEFTva4YrOy"
      },
      "source": [
        "poly = PolynomialFeatures(degree = 6, interaction_only=False, include_bias=False)\n",
        "X_poly = poly.fit_transform(X_train)\n",
        "X_poly.shape\n",
        "X_poly_test = poly.fit_transform(X_test)"
      ],
      "execution_count": 38,
      "outputs": []
    },
    {
      "cell_type": "markdown",
      "metadata": {
        "id": "u_ae2ihP1EHf"
      },
      "source": [
        "Treino do modelo no conjunto de treinamento utilizando a função *LogisticRegression*:"
      ]
    },
    {
      "cell_type": "code",
      "metadata": {
        "id": "NWJ9ldqoagvF",
        "colab": {
          "base_uri": "https://localhost:8080/",
          "height": 0
        },
        "outputId": "47b27fcb-133a-437f-a9c7-119daf30383c"
      },
      "source": [
        "\n",
        "reglog = LogisticRegression() \n",
        "reglog.fit(X_poly, y_train)"
      ],
      "execution_count": 39,
      "outputs": [
        {
          "output_type": "execute_result",
          "data": {
            "text/plain": [
              "LogisticRegression(C=1.0, class_weight=None, dual=False, fit_intercept=True,\n",
              "                   intercept_scaling=1, l1_ratio=None, max_iter=100,\n",
              "                   multi_class='auto', n_jobs=None, penalty='l2',\n",
              "                   random_state=None, solver='lbfgs', tol=0.0001, verbose=0,\n",
              "                   warm_start=False)"
            ]
          },
          "metadata": {
            "tags": []
          },
          "execution_count": 39
        }
      ]
    },
    {
      "cell_type": "markdown",
      "metadata": {
        "id": "12kHS3S21QMF"
      },
      "source": [
        "*.predict* irá realizar as previsões no conjunto de teste. \n",
        "Já *accuracy_score* compara os valores de resposta reais em y_test com os valores de resposta previstos  em y_pred."
      ]
    },
    {
      "cell_type": "code",
      "metadata": {
        "id": "LairSp5FatNe",
        "colab": {
          "base_uri": "https://localhost:8080/",
          "height": 0
        },
        "outputId": "d5be0bb2-e174-4664-cf9c-e6b936dfcabe"
      },
      "source": [
        "\n",
        "y_pred = reglog.predict(X_poly_test) \n",
        "\n",
        " \n",
        "from sklearn import metrics \n",
        "print(\"Logistic Regression model accuracy(in %):\", metrics.accuracy_score(y_test, y_pred)*100)"
      ],
      "execution_count": 40,
      "outputs": [
        {
          "output_type": "stream",
          "text": [
            "Logistic Regression model accuracy(in %): 100.0\n"
          ],
          "name": "stdout"
        }
      ]
    },
    {
      "cell_type": "markdown",
      "metadata": {
        "id": "8YQannlq1sXw"
      },
      "source": [
        "É possível inferir pelo resultado queo modelo sofre de *overfitting, ou seja, ainda que se ajuste bem ao conjunto de dados, é ineficaz ao fazer previsões."
      ]
    },
    {
      "cell_type": "code",
      "metadata": {
        "id": "R4G07OkobFHW",
        "colab": {
          "base_uri": "https://localhost:8080/",
          "height": 435
        },
        "outputId": "97d11534-72e8-4a63-c58d-de64f4ad6fab"
      },
      "source": [
        "print(\"Matriz de confusão da Regressão logistica\")\n",
        "cm = metrics.confusion_matrix(y_test, y_pred)\n",
        "sns.heatmap(cm, annot=True)\n",
        "print(classification_report(y_test, y_pred))"
      ],
      "execution_count": 41,
      "outputs": [
        {
          "output_type": "stream",
          "text": [
            "Matriz de confusão da Regressão logistica\n",
            "              precision    recall  f1-score   support\n",
            "\n",
            "           0       1.00      1.00      1.00         9\n",
            "           1       1.00      1.00      1.00        11\n",
            "\n",
            "    accuracy                           1.00        20\n",
            "   macro avg       1.00      1.00      1.00        20\n",
            "weighted avg       1.00      1.00      1.00        20\n",
            "\n"
          ],
          "name": "stdout"
        },
        {
          "output_type": "display_data",
          "data": {
            "image/png": "[encoded data removed]",
            "text/plain": [
              "<Figure size 432x288 with 2 Axes>"
            ]
          },
          "metadata": {
            "tags": [],
            "needs_background": "light"
          }
        }
      ]
    },
    {
      "cell_type": "markdown",
      "metadata": {
        "id": "MTCz-sSobu0U"
      },
      "source": [
        "###1.2.5 Esboço da fronteira de decisão"
      ]
    },
    {
      "cell_type": "markdown",
      "metadata": {
        "id": "hnWBTEiO2DgG"
      },
      "source": [
        "Abaixo, apresentam-se os comandos para o *plot* do gráfico da fronteira de decisão. Comentários foram inseridos no código a fim de facilitar a leitura."
      ]
    },
    {
      "cell_type": "code",
      "metadata": {
        "id": "QmbHQlSbcTEm",
        "colab": {
          "base_uri": "https://localhost:8080/",
          "height": 208
        },
        "outputId": "a46226e8-255b-49f5-85e9-2a353e76e54e"
      },
      "source": [
        "reglog = LogisticRegression() \n",
        "reglog.fit(X_train, y_train)\n",
        "\n",
        "#Traça o limite de decisão por meio da atribuição de diferentes cores para cada \n",
        "#ponto na malha [x_min, x_max] x [y_min, y_max].\n",
        "x_min, x_max = X_df[:, 0].min() - .5, X_df[:, 0].max() + .5\n",
        "y_min, y_max = X_df[:, 1].min() - .5, X_df[:, 1].max() + .5\n",
        "h = .02  # Tamanho do passo na malha\n",
        "xx, yy = np.meshgrid(np.arange(x_min, x_max, h), np.arange(y_min, y_max, h))\n",
        "Z = reglog.predict(np.c_[xx.ravel(), yy.ravel()])\n",
        "\n",
        "# Colocar resultado em gráfico de cores\n",
        "Z = Z.reshape(xx.shape)\n",
        "plt.figure(1, figsize=(4, 3))\n",
        "plt.pcolormesh(xx, yy, Z, cmap=plt.cm.Paired)\n",
        "\n",
        "# Acrescentar os pontos de treinamento à imagem\n",
        "plt.scatter(X_df[:, 0], X_df[:, 1], c=y_df, edgecolors='k', cmap=plt.cm.Paired)\n",
        "plt.xlabel('Prova 1')\n",
        "plt.ylabel('Prova 2')\n",
        "\n",
        "plt.xlim(xx.min(), xx.max())\n",
        "plt.ylim(yy.min(), yy.max())\n",
        "plt.xticks(())\n",
        "plt.yticks(())\n",
        "\n",
        "plt.show()"
      ],
      "execution_count": 42,
      "outputs": [
        {
          "output_type": "display_data",
          "data": {
            "image/png": "[encoded data removed]",
            "text/plain": [
              "<Figure size 288x216 with 1 Axes>"
            ]
          },
          "metadata": {
            "tags": []
          }
        }
      ]
    },
    {
      "cell_type": "markdown",
      "metadata": {
        "id": "7OEfxgoU3CRl"
      },
      "source": [
        "A seguir, outro exeplo de plot de gráfico de dispersão. Por alguma razão os dados se deslocaram para o alto e à direita, porém a curva está no local correto. "
      ]
    },
    {
      "cell_type": "code",
      "metadata": {
        "id": "d8GlNV9tdDb3",
        "colab": {
          "base_uri": "https://localhost:8080/",
          "height": 497
        },
        "outputId": "ccbb20b7-d238-40fb-d6a5-201566b00c72"
      },
      "source": [
        "poly = PolynomialFeatures(6)\n",
        "X_train_poly = poly.fit_transform(X_train)\n",
        "model_reglog_poly = LogisticRegression()\n",
        "model_reglog_poly.fit(X_train_poly, y_train)\n",
        "\n",
        "xx, yy = np.mgrid[0:100:.1, 0:100:.1]\n",
        "grid = np.c_[xx.ravel(), yy.ravel()]\n",
        "grid_poly = poly.fit_transform(grid)\n",
        "probs = model_reglog_poly.predict_proba(grid_poly)[:, 1].reshape(xx.shape)\n",
        "\n",
        "pos = X_df[y_df == 1]\n",
        "neg = X_df[y_df == 0]\n",
        "\n",
        "fig, ax = plt.subplots(figsize=(12,8))\n",
        "ax.scatter(pos[:, :-1], pos[:, -1:], s=50, c='k', marker='+', label='Aprovado')\n",
        "ax.scatter(neg[:, :-1], neg[:, -1:], s=50, c='y', marker='o', label='Nao Aprovado')\n",
        "ax.contour(xx, yy, probs, levels=[0.5])\n",
        "ax.legend()\n",
        "ax.set_xlabel('Nota da Prova 1')\n",
        "ax.set_ylabel('Nota da Prova 2')\n",
        "plt.show()"
      ],
      "execution_count": 43,
      "outputs": [
        {
          "output_type": "display_data",
          "data": {
            "image/png": "[encoded data removed]",
            "text/plain": [
              "<Figure size 864x576 with 1 Axes>"
            ]
          },
          "metadata": {
            "tags": [],
            "needs_background": "light"
          }
        }
      ]
    },
    {
      "cell_type": "markdown",
      "metadata": {
        "id": "wu28BQ9ufOB-"
      },
      "source": [
        "##1.3 Regularização"
      ]
    },
    {
      "cell_type": "markdown",
      "metadata": {
        "id": "QjgpjydwmWMy"
      },
      "source": [
        "###1.3.1Visualização de dados"
      ]
    },
    {
      "cell_type": "markdown",
      "metadata": {
        "id": "fy1fsmE_3XLV"
      },
      "source": [
        "Importando bibliotecas."
      ]
    },
    {
      "cell_type": "code",
      "metadata": {
        "id": "9joD2wQnfysU"
      },
      "source": [
        "from sklearn.linear_model import LinearRegression\n",
        "from sklearn.model_selection import learning_curve\n",
        "from sklearn.model_selection import ShuffleSplit\n",
        "import scipy.io as spi\n",
        "import scipy.optimize as opt\n",
        "import scipy.io\n",
        "import scipy.io as sio\n",
        "import scipy.optimize as opt\n",
        "import requests"
      ],
      "execution_count": 44,
      "outputs": []
    },
    {
      "cell_type": "markdown",
      "metadata": {
        "id": "KfAuBRb23c_z"
      },
      "source": [
        "Importando dados:"
      ]
    },
    {
      "cell_type": "code",
      "metadata": {
        "id": "rizoKQ9ufcea"
      },
      "source": [
        "filepath = 'https://github.com/MLRG-CEFET-RJ/ml-class/blob/master/ml-t1/data/ex5data1.mat?raw=true'\n",
        "r = requests.get(filepath, allow_redirects=True)\n",
        "open('ex5data1.mat', 'wb').write(r.content)\n",
        "\n",
        "data = scipy.io.loadmat('ex5data1.mat')\n",
        "\n",
        "X = data[\"X\"]\n",
        "y = data[\"y\"]\n",
        "Xval = data[\"Xval\"]\n",
        "yval = data[\"yval\"]\n",
        "Xtest = data[\"Xtest\"]\n",
        "ytest = data[\"ytest\"]"
      ],
      "execution_count": 45,
      "outputs": []
    },
    {
      "cell_type": "markdown",
      "metadata": {
        "id": "xxbCssLt3ynj"
      },
      "source": [
        "Visualização dos dados em gráfico com os pontos de dados do conjunto de treinamento."
      ]
    },
    {
      "cell_type": "code",
      "metadata": {
        "colab": {
          "base_uri": "https://localhost:8080/",
          "height": 391
        },
        "id": "vzWflFI6ijW_",
        "outputId": "5f099189-8709-425d-a030-7cf1187cf577"
      },
      "source": [
        "import matplotlib.pyplot as plt\n",
        "%matplotlib inline\n",
        "plt.figure(figsize=(8,6))\n",
        "plt.scatter(X, y, s=40, marker='*', color='blue')\n",
        "plt.xlabel('Mudança no nível da água (x)', fontsize=9)\n",
        "plt.ylabel('Quantidade de água que sai da barragem (y)', fontsize=9)\n",
        "plt.axis((-50, 40, 0, 40));\n"
      ],
      "execution_count": 46,
      "outputs": [
        {
          "output_type": "display_data",
          "data": {
            "image/png": "[encoded data removed]",
            "text/plain": [
              "<Figure size 576x432 with 1 Axes>"
            ]
          },
          "metadata": {
            "tags": [],
            "needs_background": "light"
          }
        }
      ]
    },
    {
      "cell_type": "markdown",
      "metadata": {
        "id": "IoTOHf36meOK"
      },
      "source": [
        "###1.3.2 Ajuste de um regressor linear"
      ]
    },
    {
      "cell_type": "markdown",
      "metadata": {
        "id": "SaEjdbtc3_DF"
      },
      "source": [
        "A função *LinearRegression* será utilizada para treinar o modelo no conjunto de treinamento, juntamento com *.fit*. A seguir *.predict* fará as previsões no conjunto de teste."
      ]
    },
    {
      "cell_type": "code",
      "metadata": {
        "id": "DdjWPu8zmjOs"
      },
      "source": [
        "\n",
        "from sklearn.linear_model import LinearRegression\n",
        "reglin = LinearRegression() \n",
        "reglin.fit(X, y)\n",
        "\n",
        "ypred = reglin.predict(Xtest) "
      ],
      "execution_count": 47,
      "outputs": []
    },
    {
      "cell_type": "markdown",
      "metadata": {
        "id": "P_mZdK-d4WIe"
      },
      "source": [
        "Importa-sa a função de erro quadrático médio a fim de comparar os valores de resposta reais (y_test) com os valores de resposta previstos (y_pred) "
      ]
    },
    {
      "cell_type": "code",
      "metadata": {
        "colab": {
          "base_uri": "https://localhost:8080/",
          "height": 0
        },
        "id": "bMx_k7A3mpJE",
        "outputId": "7af96a97-57d3-4f07-d848-7e881817d32a"
      },
      "source": [
        "from sklearn.metrics import mean_squared_error, r2_score,mean_absolute_error\n",
        "\n",
        "\n",
        "\n",
        "print('MSE: %.2f' % mean_squared_error(ytest, ypred))  \n",
        "print('RMSE: %.2f' % np.sqrt(mean_squared_error(ytest, ypred)))\n",
        "print('MAE: %.2f' % mean_absolute_error(ytest, ypred))"
      ],
      "execution_count": 48,
      "outputs": [
        {
          "output_type": "stream",
          "text": [
            "MSE: 65.01\n",
            "RMSE: 8.06\n",
            "MAE: 5.82\n"
          ],
          "name": "stdout"
        }
      ]
    },
    {
      "cell_type": "markdown",
      "metadata": {
        "id": "D4lio_Bl4jah"
      },
      "source": [
        "Importando bibliotecas para visualização de gráficos. "
      ]
    },
    {
      "cell_type": "code",
      "metadata": {
        "id": "VMpqCveZ0XXC"
      },
      "source": [
        "import matplotlib\n",
        "import matplotlib.pyplot as plt"
      ],
      "execution_count": 49,
      "outputs": []
    },
    {
      "cell_type": "markdown",
      "metadata": {
        "id": "6mrYtp_l4oNR"
      },
      "source": [
        "Comandos de plot e visualização do gráfico da regressão Linear"
      ]
    },
    {
      "cell_type": "code",
      "metadata": {
        "colab": {
          "base_uri": "https://localhost:8080/",
          "height": 296
        },
        "id": "xtQ__JHBm9L3",
        "outputId": "3671e733-9490-4190-a60a-dee3fdba818d"
      },
      "source": [
        "plt.scatter(X, y, color = 'red')\n",
        "plt.plot(X, reglin.predict(X), color = 'blue')\n",
        "plt.title('Regressão Linear')\n",
        "plt.xlabel('Nível de água fora da represa (y)')\n",
        "plt.ylabel('Alteração no nível de água(x)]')\n",
        "plt.show()"
      ],
      "execution_count": 50,
      "outputs": [
        {
          "output_type": "display_data",
          "data": {
            "image/png": "[encoded data removed]",
            "text/plain": [
              "<Figure size 432x288 with 1 Axes>"
            ]
          },
          "metadata": {
            "tags": [],
            "needs_background": "light"
          }
        }
      ]
    },
    {
      "cell_type": "markdown",
      "metadata": {
        "id": "UxbhqjkD03RH"
      },
      "source": [
        "###1.3.3 Curva de aprendizado"
      ]
    },
    {
      "cell_type": "code",
      "metadata": {
        "id": "i9F6EKZH07gj"
      },
      "source": [
        "train_sizes = [1,2, 3,4,5, 6,7,8, 9]"
      ],
      "execution_count": 51,
      "outputs": []
    },
    {
      "cell_type": "markdown",
      "metadata": {
        "id": "SnEq0rzm5U-S"
      },
      "source": [
        "Importação de biblioteca "
      ]
    },
    {
      "cell_type": "code",
      "metadata": {
        "id": "-Qqhls7C0_z5"
      },
      "source": [
        "from sklearn.linear_model import LinearRegression\n",
        "from sklearn.model_selection import learning_curve\n",
        "\n",
        "train_sizes, train_scores, validation_scores = learning_curve(estimator = LinearRegression(),\n",
        "                                                                X = X,y = y, train_sizes = train_sizes, cv = 5,\n",
        "                                                                scoring = 'neg_mean_squared_error')"
      ],
      "execution_count": 52,
      "outputs": []
    },
    {
      "cell_type": "code",
      "metadata": {
        "colab": {
          "base_uri": "https://localhost:8080/",
          "height": 0
        },
        "id": "EG8o90Ko1Mig",
        "outputId": "b6c53842-2225-4b50-e4b3-fc2d5de8182c"
      },
      "source": [
        "print('Pontuação de treinamento:\\n\\n', train_scores)\n",
        "print('\\n', '-' * 70) # separador para facilitar a leitura na saída \n",
        "print('\\nPontuação de validação:\\n\\n', validation_scores)"
      ],
      "execution_count": 53,
      "outputs": [
        {
          "output_type": "stream",
          "text": [
            "Pontuação de treinamento:\n",
            "\n",
            " [[-0.00000000e+00 -0.00000000e+00 -0.00000000e+00 -0.00000000e+00\n",
            "  -0.00000000e+00]\n",
            " [-3.71750702e-29 -0.00000000e+00 -0.00000000e+00 -0.00000000e+00\n",
            "  -0.00000000e+00]\n",
            " [-5.85185260e+01 -6.57319009e+00 -6.57319009e+00 -6.57319009e+00\n",
            "  -6.57319009e+00]\n",
            " [-5.51651851e+01 -1.49845764e+01 -5.68535538e+00 -5.68535538e+00\n",
            "  -5.68535538e+00]\n",
            " [-4.43001645e+01 -1.86631327e+01 -2.63080976e+01 -2.63080976e+01\n",
            "  -2.63080976e+01]\n",
            " [-5.49190051e+01 -3.02729626e+01 -3.88879250e+01 -3.88879250e+01\n",
            "  -3.88879250e+01]\n",
            " [-5.14416313e+01 -3.64255523e+01 -5.17606029e+01 -4.01970433e+01\n",
            "  -4.01970433e+01]\n",
            " [-5.13745879e+01 -3.74476491e+01 -5.40693573e+01 -3.63457174e+01\n",
            "  -3.63457174e+01]\n",
            " [-4.70009285e+01 -3.45442352e+01 -5.69210693e+01 -4.19159257e+01\n",
            "  -4.52188108e+01]]\n",
            "\n",
            " ----------------------------------------------------------------------\n",
            "\n",
            "Pontuação de validação:\n",
            "\n",
            " [[-827.48611597 -401.59942884  -79.19249676   -2.56520775 -227.64182874]\n",
            " [ -89.53930838 -319.70334348  -54.78698095   -6.77955865 -165.80403129]\n",
            " [ -28.04278722  -90.07729735  -55.33112235 -153.50697999  -59.88315011]\n",
            " [ -28.57578175  -92.29922329  -63.52237828 -165.38389148  -70.31076726]\n",
            " [ -30.58988852  -70.50530841  -44.57844879 -120.37394254  -92.19887214]\n",
            " [ -35.34279     -83.63423944  -34.37634492 -112.87376061  -65.03383677]\n",
            " [ -45.93937975  -76.44598209  -26.65078999 -101.15989212  -48.1337587 ]\n",
            " [ -54.97096682  -87.81397604  -19.22557536  -96.90507481  -50.76346675]\n",
            " [ -48.28814818  -81.37612637  -13.12576912  -87.92512556  -36.68528568]]\n"
          ],
          "name": "stdout"
        }
      ]
    },
    {
      "cell_type": "code",
      "metadata": {
        "colab": {
          "base_uri": "https://localhost:8080/",
          "height": 0
        },
        "id": "o0dD9F901QFX",
        "outputId": "b6a51fc4-1db5-433f-c2f1-204a9255dcfd"
      },
      "source": [
        "train_scores_mean = -train_scores.mean(axis = 1)\n",
        "validation_scores_mean = -validation_scores.mean(axis = 1)\n",
        "print('Pontuação média de treinamento\\n\\n', pd.Series(train_scores_mean, index = train_sizes))\n",
        "print('\\n', '-' * 20) # separador para facilitar a leitura na saída\n",
        "print('\\nPontuação média de validação\\n\\n',pd.Series(validation_scores_mean, index = train_sizes))"
      ],
      "execution_count": 54,
      "outputs": [
        {
          "output_type": "stream",
          "text": [
            "Pontuação média de treinamento\n",
            "\n",
            " 1   -0.000000e+00\n",
            "2    7.435014e-30\n",
            "3    1.696226e+01\n",
            "4    1.744117e+01\n",
            "5    2.837752e+01\n",
            "6    4.037115e+01\n",
            "7    4.400437e+01\n",
            "8    4.311661e+01\n",
            "9    4.512019e+01\n",
            "dtype: float64\n",
            "\n",
            " --------------------\n",
            "\n",
            "Pontuação média de validação\n",
            "\n",
            " 1    307.697016\n",
            "2    127.322645\n",
            "3     77.368267\n",
            "4     84.018408\n",
            "5     71.649292\n",
            "6     66.252194\n",
            "7     59.665961\n",
            "8     61.935812\n",
            "9     53.480091\n",
            "dtype: float64\n"
          ],
          "name": "stdout"
        }
      ]
    },
    {
      "cell_type": "markdown",
      "metadata": {
        "id": "arBxkF8m5rVZ"
      },
      "source": [
        "Visualização do gráfico de curvas de aprendizagem"
      ]
    },
    {
      "cell_type": "code",
      "metadata": {
        "colab": {
          "base_uri": "https://localhost:8080/",
          "height": 410
        },
        "id": "lpiTStHk1UXL",
        "outputId": "3fcd680a-5d5e-4c0a-9a14-359f9ede15f5"
      },
      "source": [
        "plt.style.use('seaborn')\n",
        "plt.plot(train_sizes, train_scores_mean, label = 'Erro de treino')\n",
        "plt.plot(train_sizes, validation_scores_mean, label = 'Erro de validação')\n",
        "plt.ylabel('MSE', fontsize = 14)\n",
        "plt.xlabel('Tamanho do conjunto de treinamento', fontsize = 14)\n",
        "plt.title('Curvas de aprendizagem para um modelo de regressão linear', fontsize = 18, y = 1.03)\n",
        "plt.legend()\n",
        "plt.ylim(0,320)"
      ],
      "execution_count": 55,
      "outputs": [
        {
          "output_type": "execute_result",
          "data": {
            "text/plain": [
              "(0.0, 320.0)"
            ]
          },
          "metadata": {
            "tags": []
          },
          "execution_count": 55
        },
        {
          "output_type": "display_data",
          "data": {
            "image/png": "[encoded data removed]",
            "text/plain": [
              "<Figure size 576x396 with 1 Axes>"
            ]
          },
          "metadata": {
            "tags": []
          }
        }
      ]
    },
    {
      "cell_type": "markdown",
      "metadata": {
        "id": "QDHkAp3F1YQI"
      },
      "source": [
        "###1.3.4 Ajuste de um regressor polinomial não regularizado"
      ]
    },
    {
      "cell_type": "markdown",
      "metadata": {
        "id": "fJLPiGGp6Um6"
      },
      "source": [
        "Após a aplicação de *PolinomialFeatures* que irá escalonar as *features* e pontencializar os graus, aplica-se a função *StandardScaler*. Ela padroniza as *features* removendo a média e escalonando para a variação da unidade. Assim, a pontuação padrão de uma amostra x é calculada através de: z = (x - u) / s"
      ]
    },
    {
      "cell_type": "markdown",
      "metadata": {
        "id": "KMTx9FBO7_Ma"
      },
      "source": [
        "Posteriormente, os dados são ajustados (*.fit*) e tranformados (*.transform*). "
      ]
    },
    {
      "cell_type": "code",
      "metadata": {
        "id": "t-snax6B1mO-"
      },
      "source": [
        "poly = PolynomialFeatures(degree = 8, interaction_only=False, include_bias=False)\n",
        "X_poly = poly.fit_transform(X)\n",
        "X_poly.shape\n",
        "\n",
        "scaler = StandardScaler()\n",
        "scaler.fit(X_poly)\n",
        "X_poly_scaled = scaler.transform(X_poly)\n"
      ],
      "execution_count": 56,
      "outputs": []
    },
    {
      "cell_type": "markdown",
      "metadata": {
        "id": "wOddc2Sn8M17"
      },
      "source": [
        "Importando bilbiotecas d regressão linear."
      ]
    },
    {
      "cell_type": "code",
      "metadata": {
        "id": "_mLR_5541owO"
      },
      "source": [
        "from sklearn.linear_model import LinearRegression\n",
        "from sklearn.model_selection import learning_curve\n",
        "\n",
        "train_sizes, train_scores, validation_scores = learning_curve(estimator = LinearRegression(),\n",
        "                                                                X = X_poly_scaled,y = y, train_sizes = train_sizes, cv = 5,\n",
        "                                                                scoring = 'neg_mean_squared_error')"
      ],
      "execution_count": 57,
      "outputs": []
    },
    {
      "cell_type": "code",
      "metadata": {
        "colab": {
          "base_uri": "https://localhost:8080/",
          "height": 0
        },
        "id": "v3z4ESJP1sn5",
        "outputId": "66ab5361-314f-4719-971c-26cdcd3a455e"
      },
      "source": [
        "print('Pontuação de treinamento:\\n\\n', train_scores)\n",
        "print('\\n', '-' * 70) # eparador para facilitar a leitura na saída\n",
        "print('\\nPontuação de validação:\\n\\n', validation_scores)"
      ],
      "execution_count": 58,
      "outputs": [
        {
          "output_type": "stream",
          "text": [
            "Pontuação de treinamento:\n",
            "\n",
            " [[-0.00000000e+00 -0.00000000e+00 -0.00000000e+00 -0.00000000e+00\n",
            "  -0.00000000e+00]\n",
            " [-1.66646866e-29 -0.00000000e+00 -0.00000000e+00 -0.00000000e+00\n",
            "  -0.00000000e+00]\n",
            " [-3.28692044e-30 -4.22040584e-29 -4.22040584e-29 -4.22040584e-29\n",
            "  -4.22040584e-29]\n",
            " [-1.99680417e-28 -1.42981039e-29 -1.11426603e-29 -1.11426603e-29\n",
            "  -1.11426603e-29]\n",
            " [-5.97562136e-29 -4.22632230e-28 -4.52411729e-29 -4.52411729e-29\n",
            "  -4.52411729e-29]\n",
            " [-8.35863867e-29 -3.16530438e-29 -1.86828558e-28 -1.86828558e-28\n",
            "  -1.86828558e-28]\n",
            " [-2.98640200e-29 -2.50632379e-28 -7.93368682e-29 -4.80190902e-28\n",
            "  -4.80190902e-28]\n",
            " [-1.19719503e-27 -6.76546834e-28 -3.90609408e-28 -5.60411717e-28\n",
            "  -5.60411717e-28]\n",
            " [-2.12580484e-27 -2.10809929e-27 -4.95363014e-27 -1.30032764e-27\n",
            "  -1.06384467e-27]]\n",
            "\n",
            " ----------------------------------------------------------------------\n",
            "\n",
            "Pontuação de validação:\n",
            "\n",
            " [[-8.27486116e+02 -4.01599429e+02 -7.91924968e+01 -2.56520775e+00\n",
            "  -2.27641829e+02]\n",
            " [-5.98727889e+02 -4.14961434e+02 -7.58165587e+01 -1.49893452e+01\n",
            "  -2.18006455e+02]\n",
            " [-5.03941419e-01 -7.83781459e-01 -9.03675503e+00 -2.02182549e+00\n",
            "  -2.44870452e+01]\n",
            " [-7.70506562e+00 -3.84471435e+01 -4.88464127e+00 -3.26099526e+00\n",
            "  -1.51548253e+01]\n",
            " [-9.26370604e-01 -7.65524350e+01 -4.93591373e+00 -3.46633425e+00\n",
            "  -1.51889981e+01]\n",
            " [-5.02009565e+00 -1.26513614e+03 -2.01383580e+01 -7.85444369e+00\n",
            "  -3.24162387e+01]\n",
            " [-5.30434166e+00 -3.15318875e+01 -1.24131654e+01 -2.73585888e+01\n",
            "  -1.90594350e+00]\n",
            " [-4.66437093e+00 -5.68615217e+01 -4.04299390e+00 -6.46797485e+00\n",
            "  -5.90840269e-01]\n",
            " [-1.56151803e+01 -1.44474650e+02 -5.17299056e+00 -8.59456473e+00\n",
            "  -5.42375898e-01]]\n"
          ],
          "name": "stdout"
        }
      ]
    },
    {
      "cell_type": "code",
      "metadata": {
        "colab": {
          "base_uri": "https://localhost:8080/",
          "height": 0
        },
        "id": "dQOGRkoG2LFn",
        "outputId": "72a3255d-8510-4aea-ec7e-01618b77f8d1"
      },
      "source": [
        "train_scores_mean = -train_scores.mean(axis = 1)\n",
        "validation_scores_mean = -validation_scores.mean(axis = 1)\n",
        "print('Pontuação média de treinamento\\n\\n', pd.Series(train_scores_mean, index = train_sizes))\n",
        "print('\\n', '-' * 20) # eparador para facilitar a leitura na saída\n",
        "print('\\nPontuação média de validação\\n\\n',pd.Series(validation_scores_mean, index = train_sizes))"
      ],
      "execution_count": 59,
      "outputs": [
        {
          "output_type": "stream",
          "text": [
            "Pontuação média de treinamento\n",
            "\n",
            " 1   -0.000000e+00\n",
            "2    3.332937e-30\n",
            "3    3.442063e-29\n",
            "4    4.948130e-29\n",
            "5    1.236224e-28\n",
            "6    1.351450e-28\n",
            "7    2.640430e-28\n",
            "8    6.770349e-28\n",
            "9    2.310341e-27\n",
            "dtype: float64\n",
            "\n",
            " --------------------\n",
            "\n",
            "Pontuação média de validação\n",
            "\n",
            " 1    307.697016\n",
            "2    264.500336\n",
            "3      7.366670\n",
            "4     13.890534\n",
            "5     20.214010\n",
            "6    266.113055\n",
            "7     15.702785\n",
            "8     14.525540\n",
            "9     34.879952\n",
            "dtype: float64\n"
          ],
          "name": "stdout"
        }
      ]
    },
    {
      "cell_type": "markdown",
      "metadata": {
        "id": "sAgkLuNq808V"
      },
      "source": [
        "Comandos para visualização do gráfico de curvas de aprendizagem com regressão linear."
      ]
    },
    {
      "cell_type": "code",
      "metadata": {
        "id": "BHN0FxIFgo6w",
        "colab": {
          "base_uri": "https://localhost:8080/",
          "height": 410
        },
        "outputId": "9b3cf9ae-4ba6-4beb-a2c4-c9311874a102"
      },
      "source": [
        "plt.style.use('seaborn')\n",
        "plt.plot(train_sizes, train_scores_mean, label = 'Erro de treino')\n",
        "plt.plot(train_sizes, validation_scores_mean, label = 'Erro de validação')\n",
        "plt.ylabel('MSE', fontsize = 14)\n",
        "plt.xlabel('Tamanho do conjunto de treinamento', fontsize = 14)\n",
        "plt.title('Curvas de aprendizagem para um modelo de regressão linear', fontsize = 18, y = 1.03)\n",
        "plt.legend()\n",
        "plt.ylim(0,320)"
      ],
      "execution_count": 60,
      "outputs": [
        {
          "output_type": "execute_result",
          "data": {
            "text/plain": [
              "(0.0, 320.0)"
            ]
          },
          "metadata": {
            "tags": []
          },
          "execution_count": 60
        },
        {
          "output_type": "display_data",
          "data": {
            "image/png": "[encoded data removed]",
            "text/plain": [
              "<Figure size 576x396 with 1 Axes>"
            ]
          },
          "metadata": {
            "tags": []
          }
        }
      ]
    },
    {
      "cell_type": "markdown",
      "metadata": {
        "id": "4O8YjBqO3A5G"
      },
      "source": [
        "Curva de Regressão Polinomial"
      ]
    },
    {
      "cell_type": "markdown",
      "metadata": {
        "id": "mXOTKt4R9E9y"
      },
      "source": [
        "Aplicam-se as funções já utilizadas anteriormente"
      ]
    },
    {
      "cell_type": "code",
      "metadata": {
        "colab": {
          "base_uri": "https://localhost:8080/",
          "height": 0
        },
        "id": "I5KmCWsu2Zo-",
        "outputId": "f49b7c91-f531-4f4f-ee6a-583cadbcac03"
      },
      "source": [
        "X = sorted(X)\n",
        "y = sorted(y)\n",
        "poly_reg=PolynomialFeatures(degree=8)\n",
        "X_poly=poly_reg.fit_transform(X)\n",
        "poly_reg.fit(X_poly,y)\n",
        "linearRegressor2=LinearRegression()\n",
        "linearRegressor2.fit(X_poly,y)"
      ],
      "execution_count": 61,
      "outputs": [
        {
          "output_type": "execute_result",
          "data": {
            "text/plain": [
              "LinearRegression(copy_X=True, fit_intercept=True, n_jobs=None, normalize=False)"
            ]
          },
          "metadata": {
            "tags": []
          },
          "execution_count": 61
        }
      ]
    },
    {
      "cell_type": "code",
      "metadata": {
        "id": "cDjz5-H83UN4"
      },
      "source": [
        "scaler = StandardScaler()\n",
        "scaler.fit(X_poly)\n",
        "X_poly_scaled = scaler.transform(X_poly)"
      ],
      "execution_count": 62,
      "outputs": []
    },
    {
      "cell_type": "markdown",
      "metadata": {
        "id": "rFggdcPX9OIQ"
      },
      "source": [
        "Compandos para visualização do gráfico de regressão polinomial"
      ]
    },
    {
      "cell_type": "code",
      "metadata": {
        "colab": {
          "base_uri": "https://localhost:8080/",
          "height": 377
        },
        "id": "AzzeyOAR3WZk",
        "outputId": "437a6ee0-2fc3-499b-e2f7-ff76153e272a"
      },
      "source": [
        "\n",
        "X_grid=np.arange(min(X),max(X),0.1)\n",
        "X_grid=X_grid.reshape((len(X_grid),1))\n",
        "plt.scatter(X,y,color='red')\n",
        "plt.plot(X,linearRegressor2.predict(X_poly),color='blue')\n",
        "plt.title('Regressão polinomial')\n",
        "plt.xlabel('Água fluindo para fora da barragem (y)')\n",
        "plt.ylabel('Mudança em [nível de água(x)]')\n",
        "plt.show()"
      ],
      "execution_count": 63,
      "outputs": [
        {
          "output_type": "display_data",
          "data": {
            "image/png": "[encoded data removed]",
            "text/plain": [
              "<Figure size 576x396 with 1 Axes>"
            ]
          },
          "metadata": {
            "tags": []
          }
        }
      ]
    },
    {
      "cell_type": "markdown",
      "metadata": {
        "id": "IbTs0etu3ZeO"
      },
      "source": [
        "###1.3.5 Ajuste de um regressor polinomial regularizado"
      ]
    },
    {
      "cell_type": "code",
      "metadata": {
        "id": "Ognc_8Wn3gcw"
      },
      "source": [
        "train_sizes = np.arange(0.1,1,0.1)"
      ],
      "execution_count": 64,
      "outputs": []
    },
    {
      "cell_type": "code",
      "metadata": {
        "colab": {
          "base_uri": "https://localhost:8080/",
          "height": 0
        },
        "id": "0koix25LSRhD",
        "outputId": "63f0ed21-eded-4ad1-bfbe-753ce73626da"
      },
      "source": [
        "X"
      ],
      "execution_count": 65,
      "outputs": [
        {
          "output_type": "execute_result",
          "data": {
            "text/plain": [
              "[array([-48.05882945]),\n",
              " array([-44.38375985]),\n",
              " array([-34.70626581]),\n",
              " array([-29.15297922]),\n",
              " array([-15.93675813]),\n",
              " array([-8.94145794]),\n",
              " array([1.38915437]),\n",
              " array([7.01350208]),\n",
              " array([15.30779289]),\n",
              " array([22.76274892]),\n",
              " array([36.18954863]),\n",
              " array([37.49218733])]"
            ]
          },
          "metadata": {
            "tags": []
          },
          "execution_count": 65
        }
      ]
    },
    {
      "cell_type": "code",
      "metadata": {
        "colab": {
          "base_uri": "https://localhost:8080/",
          "height": 0
        },
        "id": "kX-liN8lTbFv",
        "outputId": "adde84b7-4942-492e-bd23-90949b6c22c1"
      },
      "source": [
        "type(X_test)"
      ],
      "execution_count": 66,
      "outputs": [
        {
          "output_type": "execute_result",
          "data": {
            "text/plain": [
              "numpy.ndarray"
            ]
          },
          "metadata": {
            "tags": []
          },
          "execution_count": 66
        }
      ]
    },
    {
      "cell_type": "markdown",
      "metadata": {
        "id": "7ctYbAihWCZN"
      },
      "source": [
        "Optou-se por refazer a declaração sem *sorted*, uma vez que os resutados de saída são os mesmos e o embaralhamento dos dados deu erro no final do processamento.\n",
        "Testando novas declarações abaixo."
      ]
    },
    {
      "cell_type": "code",
      "metadata": {
        "id": "tjqPeEfAWd_U"
      },
      "source": [
        "train_sizes = np.arange(0.1,1,0.1)"
      ],
      "execution_count": 67,
      "outputs": []
    },
    {
      "cell_type": "code",
      "metadata": {
        "id": "6nuwDUhVWg78"
      },
      "source": [
        "poly_reg=PolynomialFeatures(degree=8)\n",
        "X_poly=poly_reg.fit_transform(np.array(X).reshape(-1,1))\n",
        "X_test_poly=poly_reg.fit_transform(Xtest.reshape(-1,1))\n",
        "X_val_poly=poly_reg.fit_transform(Xval.reshape(-1,1))\n",
        "#poly_reg.fit(X_poly,y)"
      ],
      "execution_count": 68,
      "outputs": []
    },
    {
      "cell_type": "code",
      "metadata": {
        "id": "bsbf8XWCcjya"
      },
      "source": [
        "scaler = StandardScaler()\n",
        "X_poly_scaled = scaler.fit_transform(X_poly)\n",
        "X_test_poly_scaled=poly_reg.fit_transform(X_test_poly)\n",
        "X_val_poly_scaled=poly_reg.fit_transform(X_val_poly)"
      ],
      "execution_count": 69,
      "outputs": []
    },
    {
      "cell_type": "markdown",
      "metadata": {
        "id": "ynhtsYS_coVu"
      },
      "source": [
        "Ridge"
      ]
    },
    {
      "cell_type": "markdown",
      "metadata": {
        "id": "1d_QWRs9-DwG"
      },
      "source": [
        "Regularização de Tikhonov, também conhecida como regressão de Ridge, é um algoritmo de regressãousado para aproximar uma resposta para uma equação sem solução única. Esse tipo de problema é muito comum em tarefas de aprendizado de máquina, onde a \"melhor\" solução deve ser escolhida usando dados limitados."
      ]
    },
    {
      "cell_type": "markdown",
      "metadata": {
        "id": "LipKf9fp9n5X"
      },
      "source": [
        "Importando lianear model para regressao de Ridge"
      ]
    },
    {
      "cell_type": "code",
      "metadata": {
        "id": "3vA4jJ9fcnUQ",
        "colab": {
          "base_uri": "https://localhost:8080/",
          "height": 0
        },
        "outputId": "d70687e8-4da1-4766-93d8-e8511d3b9b87"
      },
      "source": [
        "from sklearn import linear_model\n",
        "reg_Ridge = linear_model.Ridge(alpha=1)\n",
        "reg_Ridge.fit(X_poly_scaled,y)\n",
        "reg_Ridge.coef_\n",
        "reg_Ridge.intercept_\n"
      ],
      "execution_count": 70,
      "outputs": [
        {
          "output_type": "execute_result",
          "data": {
            "text/plain": [
              "array([11.21758933])"
            ]
          },
          "metadata": {
            "tags": []
          },
          "execution_count": 70
        }
      ]
    },
    {
      "cell_type": "markdown",
      "metadata": {
        "id": "xMIHCFxBdGhP"
      },
      "source": [
        "Lasso"
      ]
    },
    {
      "cell_type": "markdown",
      "metadata": {
        "id": "Q9-maXPP-pCI"
      },
      "source": [
        "Trata-se da menor contração absoluta e operador de seleção. Assim como Ridge, é um método de análise de regressão que seleciona e regulariza variáveis ​​a fim de aprimorar a precisão da previsão e a interpretabilidade do modelo estatístico resultante."
      ]
    },
    {
      "cell_type": "markdown",
      "metadata": {
        "id": "-dEOZ2S89wbt"
      },
      "source": [
        "Importando Linear model para execução de Lasso "
      ]
    },
    {
      "cell_type": "code",
      "metadata": {
        "id": "6DRW3dzKdDav",
        "colab": {
          "base_uri": "https://localhost:8080/",
          "height": 0
        },
        "outputId": "a31b132c-e364-4298-a23c-cecf2d657a04"
      },
      "source": [
        "from sklearn import linear_model\n",
        "reg_LarsLasso = linear_model.LassoLars(alpha=1)\n",
        "reg_LarsLasso.fit(X_poly_scaled,y)\n",
        "reg_LarsLasso.coef_\n",
        "reg_LarsLasso.intercept_"
      ],
      "execution_count": 71,
      "outputs": [
        {
          "output_type": "execute_result",
          "data": {
            "text/plain": [
              "array([11.21758933])"
            ]
          },
          "metadata": {
            "tags": []
          },
          "execution_count": 71
        }
      ]
    },
    {
      "cell_type": "markdown",
      "metadata": {
        "id": "iv6PA-c__LCd"
      },
      "source": [
        "Abaixo, as funções Ridge e Lasso Range são utilizadas a fim de apresentar os valores dos parâmetros do teste"
      ]
    },
    {
      "cell_type": "code",
      "metadata": {
        "id": "TVabN1XMdNpK",
        "colab": {
          "base_uri": "https://localhost:8080/",
          "height": 0
        },
        "outputId": "837088ca-9aae-4f7b-d734-edadd11cccd8"
      },
      "source": [
        "from sklearn.model_selection import train_test_split\n",
        "from sklearn.model_selection import GridSearchCV\n",
        "from timeit import default_timer as timer\n",
        "from sklearn.preprocessing import StandardScaler\n",
        "\n",
        "\n",
        "#def Ridge_Rand(x, y, param, kfold, n):\n",
        "#    param_grid = {'alpha':param}\n",
        "#    #k = StratifiedKFold(n_splits=kfold)\n",
        "#    randsearch = GridSearchCV(linear_model.Ridge(), param_grid=param_grid, cv=kfold, n_jobs=2,\n",
        "#                                    verbose=1)\n",
        "#    return randsearch.fit(x, y)\n",
        "\n",
        "def Ridge_Rand(x, y, param, kfold, n):\n",
        "    param_grid = {'alpha':param}    \n",
        "    randsearch = GridSearchCV(linear_model.Ridge(), param_grid=param_grid, cv=kfold, n_jobs=2,verbose=1)\n",
        "    return randsearch.fit(x, y)\n",
        "\n",
        "\n",
        "def Lasso_Rand(x, y, param, kfold, n):\n",
        "    param_grid = {'alpha':param}  \n",
        "    randsearch = GridSearchCV( linear_model.LassoLars(), param_grid=param_grid, cv=kfold, n_jobs=2,verbose=1)\n",
        "\n",
        "    return randsearch.fit(x, y)\n",
        "\n",
        "\n",
        "start = timer()\n",
        "\n",
        "alpha = [i for i in range(1,10)]\n",
        "\n",
        "\n",
        "clf_Ridge = Ridge_Rand(x=X_poly, y=y, param=alpha, kfold=2, n=50)\n",
        "#clf = Ridge_Rand(x=X_poly, y=y, param=alpha, kfold=2, n=50)\n",
        "\n",
        "print('Ridge:')\n",
        "print('Melhor precisão cv: {}' .format(clf_Ridge.best_score_))\n",
        "print('Pontuação do conjunto de teste:   {}' .format(clf_Ridge.score(X_test_poly, ytest)))\n",
        "print('Melhores parâmetros:  {}' .format(clf_Ridge.best_params_))\n",
        "print()\n",
        "Ridge_cbest_lf = clf_Ridge.best_estimator_\n",
        "\n",
        "duration = timer() - start\n",
        "print('tempo de execução de SearchCV: {}' .format(duration))\n",
        "print('')\n",
        "print('######################################')\n",
        "print('')\n",
        "\n",
        "start = timer()\n",
        "\n",
        "alpha = [i for i in range(1,20)]\n",
        "\n",
        "\n",
        "clf_LassoLars = Lasso_Rand(x=X_poly, y=y, param=alpha, kfold=2, n=50)\n",
        "\n",
        "print('Lasso Lars:')\n",
        "print('Melhor precisão cv: {}' .format(clf_LassoLars.best_score_))\n",
        "print('Pontuação do conjunto de teste:   {}' .format(clf_LassoLars.score(X_test_poly, ytest)))\n",
        "print('Melhores parâmetros:  {}' .format(clf_LassoLars.best_params_))\n",
        "print()\n",
        "LassoLars_best_clf = clf_LassoLars.best_estimator_\n",
        "\n",
        "duration = timer() - start\n",
        "print('tempo de execução de SearchCV: {}' .format(duration))"
      ],
      "execution_count": 72,
      "outputs": [
        {
          "output_type": "stream",
          "text": [
            "Fitting 2 folds for each of 9 candidates, totalling 18 fits\n"
          ],
          "name": "stdout"
        },
        {
          "output_type": "stream",
          "text": [
            "[Parallel(n_jobs=2)]: Using backend LokyBackend with 2 concurrent workers.\n"
          ],
          "name": "stderr"
        },
        {
          "output_type": "stream",
          "text": [
            "Ridge:\n",
            "Melhor precisão cv: -9465441555.101265\n",
            "Pontuação do conjunto de teste:   0.8614907305604139\n",
            "Melhores parâmetros:  {'alpha': 1}\n",
            "\n",
            "tempo de execução de SearchCV: 1.120875902000023\n",
            "\n",
            "######################################\n",
            "\n",
            "Fitting 2 folds for each of 19 candidates, totalling 38 fits\n",
            "Lasso Lars:\n",
            "Melhor precisão cv: -20.102162508875946\n",
            "Pontuação do conjunto de teste:   0.029968122297673427\n",
            "Melhores parâmetros:  {'alpha': 3}\n",
            "\n",
            "tempo de execução de SearchCV: 0.1336022370000478\n"
          ],
          "name": "stdout"
        },
        {
          "output_type": "stream",
          "text": [
            "[Parallel(n_jobs=2)]: Done  18 out of  18 | elapsed:    1.1s finished\n",
            "/usr/local/lib/python3.7/dist-packages/sklearn/linear_model/_ridge.py:148: LinAlgWarning: Ill-conditioned matrix (rcond=1.17831e-27): result may not be accurate.\n",
            "  overwrite_a=True).T\n",
            "[Parallel(n_jobs=2)]: Using backend LokyBackend with 2 concurrent workers.\n",
            "[Parallel(n_jobs=2)]: Done  35 out of  38 | elapsed:    0.1s remaining:    0.0s\n",
            "[Parallel(n_jobs=2)]: Done  38 out of  38 | elapsed:    0.1s finished\n"
          ],
          "name": "stderr"
        }
      ]
    },
    {
      "cell_type": "code",
      "metadata": {
        "id": "vVkiiUzUdSNC",
        "colab": {
          "base_uri": "https://localhost:8080/",
          "height": 0
        },
        "outputId": "0179f332-c1e5-49dc-b22a-cff579a982be"
      },
      "source": [
        "train_sizes, train_scores, validation_scores = learning_curve(estimator = Ridge_cbest_lf,\n",
        "                                                                X =X_poly_scaled,y = y, train_sizes = train_sizes,n_jobs=-1, cv = 5,\n",
        "                                                                scoring = 'neg_mean_squared_error')"
      ],
      "execution_count": 73,
      "outputs": [
        {
          "output_type": "stream",
          "text": [
            "/usr/local/lib/python3.7/dist-packages/sklearn/model_selection/_validation.py:1326: RuntimeWarning: Removed duplicate entries from 'train_sizes'. Number of ticks will be less than the size of 'train_sizes' 8 instead of 9).\n",
            "  % (train_sizes_abs.shape[0], n_ticks), RuntimeWarning)\n"
          ],
          "name": "stderr"
        }
      ]
    },
    {
      "cell_type": "code",
      "metadata": {
        "id": "_8ftbVO8dZ3h",
        "colab": {
          "base_uri": "https://localhost:8080/",
          "height": 0
        },
        "outputId": "86f62b51-c382-4ca5-979c-cbe48db3f88f"
      },
      "source": [
        "train_scores_mean = -train_scores.mean(axis = 1)\n",
        "validation_scores_mean = -validation_scores.mean(axis = 1)\n",
        "print('Pontuação média de treinamento\\n\\n', pd.Series(train_scores_mean, index = train_sizes))\n",
        "print('\\n', '-' * 20) # separator\n",
        "print('\\nPontuação média de validação\\n\\n',pd.Series(validation_scores_mean, index = train_sizes))"
      ],
      "execution_count": 74,
      "outputs": [
        {
          "output_type": "stream",
          "text": [
            "Pontuação média de treinamento\n",
            "\n",
            " 1   -0.000000\n",
            "2    0.007747\n",
            "3    0.065194\n",
            "4    0.066812\n",
            "5    0.701514\n",
            "6    3.018035\n",
            "7    4.987994\n",
            "8    4.153859\n",
            "dtype: float64\n",
            "\n",
            " --------------------\n",
            "\n",
            "Pontuação média de validação\n",
            "\n",
            " 1    307.966262\n",
            "2    262.418227\n",
            "3    283.023442\n",
            "4    277.495464\n",
            "5    274.221750\n",
            "6    264.362393\n",
            "7    259.524446\n",
            "8    219.434603\n",
            "dtype: float64\n"
          ],
          "name": "stdout"
        }
      ]
    },
    {
      "cell_type": "markdown",
      "metadata": {
        "id": "OhKM1Gtd_9Iq"
      },
      "source": [
        "Visualização do gráfico de curva de aprendizado polinomial reguçarizado. \n",
        "Supostamente, a reguarização deveria solucionar o problema de *overfitting*, porém, ainda que os números estejam corretos, as imagens ainda apresentam *overfitting*."
      ]
    },
    {
      "cell_type": "code",
      "metadata": {
        "id": "YdBkgdFulEfT",
        "colab": {
          "base_uri": "https://localhost:8080/",
          "height": 393
        },
        "outputId": "f967fc69-7d21-47e7-9f28-97779b90d8d1"
      },
      "source": [
        "\n",
        "plt.plot(train_sizes, train_scores_mean, label = 'Erro de treinamentor')\n",
        "plt.plot(train_sizes, validation_scores_mean, label = 'Erro de validação')\n",
        "plt.title('Curva de aprendizado de um regressor polinomial regularizado ', fontsize = 18, y = 1.03)\n",
        "plt.xlabel('Tamanho do conjunto de treinamento', fontsize = 14)\n",
        "plt.ylabel('MSE', fontsize = 14)\n",
        "plt.ylim(0,300)\n",
        "plt.show()"
      ],
      "execution_count": 75,
      "outputs": [
        {
          "output_type": "display_data",
          "data": {
            "image/png": "[encoded data removed]",
            "text/plain": [
              "<Figure size 576x396 with 1 Axes>"
            ]
          },
          "metadata": {
            "tags": []
          }
        }
      ]
    },
    {
      "cell_type": "markdown",
      "metadata": {
        "id": "SEwf5Nkjtfhx"
      },
      "source": [
        "###2 Redução de dimensionalidade"
      ]
    },
    {
      "cell_type": "markdown",
      "metadata": {
        "id": "tpLl-8MUtjIx"
      },
      "source": [
        "##2.1 Conjunto de dados de exemplo"
      ]
    },
    {
      "cell_type": "markdown",
      "metadata": {
        "id": "w8VC2IAGAkTM"
      },
      "source": [
        "Importação dos dados e plotagem"
      ]
    },
    {
      "cell_type": "code",
      "metadata": {
        "id": "yFdxOZAOtmy-",
        "colab": {
          "base_uri": "https://localhost:8080/",
          "height": 498
        },
        "outputId": "14b21605-030b-42b4-b9b2-88e84c7608c2"
      },
      "source": [
        "filepath = 'https://github.com/MLRG-CEFET-RJ/ml-class/blob/master/ml-t2/data/ex7data1.mat?raw=true'\n",
        "r = requests.get(filepath, allow_redirects=True)\n",
        "open('ex7data1.mat', 'wb').write(r.content)\n",
        "\n",
        "data = scipy.io.loadmat('ex7data1.mat')\n",
        "\n",
        "X=data[\"X\"]\n",
        "\n",
        "\n",
        "plt.figure(figsize=(10,8))\n",
        "plt.plot(X[:,0], X[:,1], 'bo')\n",
        "plt.title('Conjunto de dados originais', fontweight='bold')\n",
        "sns.despine()\n"
      ],
      "execution_count": 76,
      "outputs": [
        {
          "output_type": "display_data",
          "data": {
            "image/png": "[encoded data removed]",
            "text/plain": [
              "<Figure size 720x576 with 1 Axes>"
            ]
          },
          "metadata": {
            "tags": []
          }
        }
      ]
    },
    {
      "cell_type": "markdown",
      "metadata": {
        "id": "SF3p3pFOI6iP"
      },
      "source": [
        "##2.2 Implementando o PCA"
      ]
    },
    {
      "cell_type": "markdown",
      "metadata": {
        "id": "UwGPlWDdAq3q"
      },
      "source": [
        "Visualização das primeiras dez linhas do conjunto de dados"
      ]
    },
    {
      "cell_type": "code",
      "metadata": {
        "colab": {
          "base_uri": "https://localhost:8080/",
          "height": 0
        },
        "id": "joBkibnYJCGH",
        "outputId": "679e0305-e29d-48db-893a-7ef35e28384e"
      },
      "source": [
        "\n",
        "X[:10]"
      ],
      "execution_count": 77,
      "outputs": [
        {
          "output_type": "execute_result",
          "data": {
            "text/plain": [
              "array([[3.38156267, 3.38911268],\n",
              "       [4.52787538, 5.8541781 ],\n",
              "       [2.65568187, 4.41199472],\n",
              "       [2.76523467, 3.71541365],\n",
              "       [2.84656011, 4.17550645],\n",
              "       [3.89067196, 6.48838087],\n",
              "       [3.47580524, 3.63284876],\n",
              "       [5.91129845, 6.68076853],\n",
              "       [3.92889397, 5.09844661],\n",
              "       [4.56183537, 5.62329929]])"
            ]
          },
          "metadata": {
            "tags": []
          },
          "execution_count": 77
        }
      ]
    },
    {
      "cell_type": "markdown",
      "metadata": {
        "id": "egspGSSaAwAd"
      },
      "source": [
        "importando bibliotecas necessárias:"
      ]
    },
    {
      "cell_type": "code",
      "metadata": {
        "id": "LoxE0FhKKAzj"
      },
      "source": [
        "import pandas as pd\n",
        "import numpy as np\n",
        "from scipy.optimize import minimize\n",
        "import matplotlib.pyplot as plt\n",
        "import scipy.io"
      ],
      "execution_count": 78,
      "outputs": []
    },
    {
      "cell_type": "markdown",
      "metadata": {
        "id": "fBhdnC1ZA0iJ"
      },
      "source": [
        "Utiliza-se a função de normalização a fim de normalizar a caracteísticas, ou seja, colocando-as dentro de um intervalo."
      ]
    },
    {
      "cell_type": "code",
      "metadata": {
        "id": "AzAySEpQKRkw"
      },
      "source": [
        "\n",
        "def normalize_features(X):\n",
        "\tmu = np.mean(X,axis=0)\n",
        "\tsigma = np.std(X,axis=0)\n",
        "\tnormalized_X = np.divide(X - mu,sigma)\n",
        "\treturn (normalized_X, mu, sigma)\n",
        " "
      ],
      "execution_count": 79,
      "outputs": []
    },
    {
      "cell_type": "code",
      "metadata": {
        "id": "fIiA_lRPKzYD"
      },
      "source": [
        "X_norm, mu, sigma = normalize_features(X)"
      ],
      "execution_count": 80,
      "outputs": []
    },
    {
      "cell_type": "markdown",
      "metadata": {
        "id": "XMX-4Mo6BFFE"
      },
      "source": [
        "Confere-se o resultado da normalização:"
      ]
    },
    {
      "cell_type": "code",
      "metadata": {
        "colab": {
          "base_uri": "https://localhost:8080/",
          "height": 0
        },
        "id": "nUDnFBMBK8E8",
        "outputId": "8fb45744-5866-4a21-813e-3357d0265cde"
      },
      "source": [
        "\n",
        "print(X_norm[:5], mu, sigma, sep='\\n\\n')"
      ],
      "execution_count": 81,
      "outputs": [
        {
          "output_type": "stream",
          "text": [
            "[[-0.52331306 -1.59279252]\n",
            " [ 0.46381518  0.84034523]\n",
            " [-1.14839331 -0.58315891]\n",
            " [-1.05405373 -1.27071783]\n",
            " [-0.98402167 -0.81658417]]\n",
            "\n",
            "[3.98926528 5.00280585]\n",
            "\n",
            "[1.16126017 1.01312201]\n"
          ],
          "name": "stdout"
        }
      ]
    },
    {
      "cell_type": "markdown",
      "metadata": {
        "id": "6sCZlDMXBK_X"
      },
      "source": [
        "Implementação do PCA em uma função personalizada.\n",
        "A Análise de Componentes Principais (PCA) é uma técnica estatística não-paramétrica e não supervisionada. Pode ser usada co o objetivo de deminuir a dimensionalidade no aprendizado de máquina, que pode representar alto número de *features* no conjunto de dados. "
      ]
    },
    {
      "cell_type": "code",
      "metadata": {
        "id": "nhNhkI0oLHHR"
      },
      "source": [
        "\n",
        "\n",
        "def pca(X):\n",
        "  \n",
        "  \n",
        "  #Define m como o número de exemplos de X\n",
        "  m = X.shape[0]\n",
        "\n",
        "  #Calcula a matriz de covariância\n",
        "  X_mc = (1/m) * np.dot(X.T, X)\n",
        "\n",
        "  #Decomposição da matriz de covariância (SVD)\n",
        "  U, S, V = np.linalg.svd(X_mc)\n",
        "\n",
        "  return (U, S)"
      ],
      "execution_count": 82,
      "outputs": []
    },
    {
      "cell_type": "code",
      "metadata": {
        "colab": {
          "base_uri": "https://localhost:8080/",
          "height": 0
        },
        "id": "U40P5Xp-LN2-",
        "outputId": "97e72a24-6c08-43e1-867c-3d0807b62601"
      },
      "source": [
        "\n",
        "U, S = pca(X_norm)\n",
        "print('PCA de X:', U, sep='\\n')"
      ],
      "execution_count": 83,
      "outputs": [
        {
          "output_type": "stream",
          "text": [
            "PCA de X:\n",
            "[[-0.70710678 -0.70710678]\n",
            " [-0.70710678  0.70710678]]\n"
          ],
          "name": "stdout"
        }
      ]
    },
    {
      "cell_type": "markdown",
      "metadata": {
        "id": "L_zR6zlYCD8F"
      },
      "source": [
        "Conferindo as dimensões da matriz:"
      ]
    },
    {
      "cell_type": "code",
      "metadata": {
        "colab": {
          "base_uri": "https://localhost:8080/",
          "height": 0
        },
        "id": "A6EDNSeyLRW0",
        "outputId": "3d757b38-968c-4332-a785-d9668bfc44b2"
      },
      "source": [
        "\n",
        "print(X_norm.shape, U.shape)"
      ],
      "execution_count": 84,
      "outputs": [
        {
          "output_type": "stream",
          "text": [
            "(50, 2) (2, 2)\n"
          ],
          "name": "stdout"
        }
      ]
    },
    {
      "cell_type": "markdown",
      "metadata": {
        "id": "MdCMS_wFLW9X"
      },
      "source": [
        "##2.3 Redução da Dimensionalidade"
      ]
    },
    {
      "cell_type": "markdown",
      "metadata": {
        "id": "nKpfqGovCQ4x"
      },
      "source": [
        "Após aplicação do PCA, os comandos abaixo apresenta o gráfico dos dados normalizados e reduzidos. "
      ]
    },
    {
      "cell_type": "code",
      "metadata": {
        "colab": {
          "base_uri": "https://localhost:8080/",
          "height": 566
        },
        "id": "GTTcSgeALRJl",
        "outputId": "1b313024-071f-4e6d-9850-c04b1dad425b"
      },
      "source": [
        "\n",
        "plt.figure(figsize=(10,8))\n",
        "\n",
        "plt.axis('equal')\n",
        "plt.plot(X_norm[:,0], X_norm[:,1], 'bo', alpha=0.5)\n",
        "\n",
        "K = 2\n",
        "for axis, color in zip(U[:K], ['yellow','green']):\n",
        "  start, end = np.zeros(2), (mu + sigma * axis)[:K] - (mu)[:K]\n",
        "  plt.annotate('', xy=end,xytext=start,\n",
        "               arrowprops=dict(facecolor=color, width=0.8))\n",
        "plt.title('Visualização dos autovetores - PCA', fontweight='bold')\n",
        "plt.legend(['Dados Normalizados'], loc=2)\n",
        "\n",
        "plt.axis('equal')\n"
      ],
      "execution_count": 85,
      "outputs": [
        {
          "output_type": "execute_result",
          "data": {
            "text/plain": [
              "(-2.6226554725605085,\n",
              " 1.8588310209460752,\n",
              " -2.317921093885695,\n",
              " 2.551139811950425)"
            ]
          },
          "metadata": {
            "tags": []
          },
          "execution_count": 85
        },
        {
          "output_type": "display_data",
          "data": {
            "image/png": "[encoded data removed]",
            "text/plain": [
              "<Figure size 720x576 with 1 Axes>"
            ]
          },
          "metadata": {
            "tags": []
          }
        }
      ]
    },
    {
      "cell_type": "markdown",
      "metadata": {
        "id": "0sCyE_M_L9AW"
      },
      "source": [
        "###2.3.1 Projetando os dados nos componentes principais"
      ]
    },
    {
      "cell_type": "markdown",
      "metadata": {
        "id": "f_wE11IxCn2Q"
      },
      "source": [
        "Utiliza-se a função abaixo: "
      ]
    },
    {
      "cell_type": "code",
      "metadata": {
        "id": "NwzJvL2jLnqF"
      },
      "source": [
        "def project_data(X, U, K):\n",
        "\tU_reduce = U[:, 0:K]\n",
        "\tZ = np.zeros((len(X), K))\n",
        "\tfor i in range(len(X)):\n",
        "\t\tx = X[i,:]\n",
        "\t\tprojection_k = np.dot(x, U_reduce)\n",
        "\t\tZ[i] = projection_k\n",
        "\treturn Z"
      ],
      "execution_count": 86,
      "outputs": []
    },
    {
      "cell_type": "markdown",
      "metadata": {
        "id": "r2CaHG0MCtoh"
      },
      "source": [
        "A fim de realizar a projeção por meio dos comandos abaixo:"
      ]
    },
    {
      "cell_type": "code",
      "metadata": {
        "id": "WJ9hMw--MIng"
      },
      "source": [
        "\n",
        "K = 1\n",
        "Z = project_data(X_norm, U, K)"
      ],
      "execution_count": 87,
      "outputs": []
    },
    {
      "cell_type": "markdown",
      "metadata": {
        "id": "qhZVh-d5C1Rk"
      },
      "source": [
        "Apresnta as dez primeiras observações dos dados projetados"
      ]
    },
    {
      "cell_type": "code",
      "metadata": {
        "colab": {
          "base_uri": "https://localhost:8080/",
          "height": 0
        },
        "id": "ogLTwxLAMP2Y",
        "outputId": "621b0e04-db50-40f8-ac03-6c6c6488ed08"
      },
      "source": [
        "\n",
        "Z[:10]"
      ],
      "execution_count": 88,
      "outputs": [
        {
          "output_type": "execute_result",
          "data": {
            "text/plain": [
              "array([[ 1.49631261],\n",
              "       [-0.92218067],\n",
              "       [ 1.22439232],\n",
              "       [ 1.64386173],\n",
              "       [ 1.2732206 ],\n",
              "       [-0.97681976],\n",
              "       [ 1.26881187],\n",
              "       [-2.34148278],\n",
              "       [-0.02999141],\n",
              "       [-0.78171789]])"
            ]
          },
          "metadata": {
            "tags": []
          },
          "execution_count": 88
        }
      ]
    },
    {
      "cell_type": "markdown",
      "metadata": {
        "id": "UY3W6NwqC8sl"
      },
      "source": [
        "Projetando apenas o primeiro exemplo de X"
      ]
    },
    {
      "cell_type": "code",
      "metadata": {
        "colab": {
          "base_uri": "https://localhost:8080/",
          "height": 0
        },
        "id": "zhHzwLY0MWIX",
        "outputId": "523c2cf6-735f-4f44-ffcf-a6e4ca96a6c2"
      },
      "source": [
        "\n",
        "print('X original:', X[0])\n",
        "print('X normalizado:', X_norm[0])\n",
        "print('X projetado para 1 dim:', project_data(X_norm[0].reshape(-1,1).T, U, K))"
      ],
      "execution_count": 89,
      "outputs": [
        {
          "output_type": "stream",
          "text": [
            "X original: [3.38156267 3.38911268]\n",
            "X normalizado: [-0.52331306 -1.59279252]\n",
            "X projetado para 1 dim: [[1.49631261]]\n"
          ],
          "name": "stdout"
        }
      ]
    },
    {
      "cell_type": "markdown",
      "metadata": {
        "id": "cR1urUaoMaI9"
      },
      "source": [
        "###2.3.2 Reconstruindo uma aproximação dos dados"
      ]
    },
    {
      "cell_type": "markdown",
      "metadata": {
        "id": "B4shsMTADCbJ"
      },
      "source": [
        "Inicialmente é necessário usar a função *recover_data*, apresentada abaixo:"
      ]
    },
    {
      "cell_type": "code",
      "metadata": {
        "id": "nEwTdMSMMbqS"
      },
      "source": [
        "def recover_data(Z, U, K):\n",
        "\tX_rec = np.zeros((len(Z), len(U)))\n",
        "\tfor i in range(len(Z)):\n",
        "\t\tv = Z[i,:]\n",
        "\t\tfor j in range(np.size(U,1)):\n",
        "\t\t\trecovered_j = np.dot(v.T,U[j,0:K])\n",
        "\t\t\tX_rec[i][j] = recovered_j\n",
        "\treturn X_rec\n"
      ],
      "execution_count": 90,
      "outputs": []
    },
    {
      "cell_type": "markdown",
      "metadata": {
        "id": "ADm97MrqDNN5"
      },
      "source": [
        "Chama-se a função a fim de recuperar os dados"
      ]
    },
    {
      "cell_type": "code",
      "metadata": {
        "id": "F-JWiKioMkiT"
      },
      "source": [
        "X_rec = recover_data(Z, U, K)"
      ],
      "execution_count": 91,
      "outputs": []
    },
    {
      "cell_type": "markdown",
      "metadata": {
        "id": "XnF6Oh6KDTV1"
      },
      "source": [
        "Exemplificação das dez primeiras observações dos dados recuperados"
      ]
    },
    {
      "cell_type": "code",
      "metadata": {
        "colab": {
          "base_uri": "https://localhost:8080/",
          "height": 0
        },
        "id": "DYc7CjHZMoQ2",
        "outputId": "aa0b5dea-7583-4f46-b719-cd8175144479"
      },
      "source": [
        "\n",
        "X_rec[:10]"
      ],
      "execution_count": 92,
      "outputs": [
        {
          "output_type": "execute_result",
          "data": {
            "text/plain": [
              "array([[-1.05805279, -1.05805279],\n",
              "       [ 0.65208021,  0.65208021],\n",
              "       [-0.86577611, -0.86577611],\n",
              "       [-1.16238578, -1.16238578],\n",
              "       [-0.90030292, -0.90030292],\n",
              "       [ 0.69071588,  0.69071588],\n",
              "       [-0.89718548, -0.89718548],\n",
              "       [ 1.65567835,  1.65567835],\n",
              "       [ 0.02120713,  0.02120713],\n",
              "       [ 0.55275802,  0.55275802]])"
            ]
          },
          "metadata": {
            "tags": []
          },
          "execution_count": 92
        }
      ]
    },
    {
      "cell_type": "markdown",
      "metadata": {
        "id": "8ZLskRxlDeJB"
      },
      "source": [
        "Todos os dados recuperados"
      ]
    },
    {
      "cell_type": "code",
      "metadata": {
        "colab": {
          "base_uri": "https://localhost:8080/",
          "height": 0
        },
        "id": "gxc080q_N1xg",
        "outputId": "f69f2b07-fd70-4d4a-fa2b-a9abd4c480a9"
      },
      "source": [
        "print(X_rec)"
      ],
      "execution_count": 93,
      "outputs": [
        {
          "output_type": "stream",
          "text": [
            "[[-1.05805279 -1.05805279]\n",
            " [ 0.65208021  0.65208021]\n",
            " [-0.86577611 -0.86577611]\n",
            " [-1.16238578 -1.16238578]\n",
            " [-0.90030292 -0.90030292]\n",
            " [ 0.69071588  0.69071588]\n",
            " [-0.89718548 -0.89718548]\n",
            " [ 1.65567835  1.65567835]\n",
            " [ 0.02120713  0.02120713]\n",
            " [ 0.55275802  0.55275802]\n",
            " [ 0.44666359  0.44666359]\n",
            " [ 0.39088959  0.39088959]\n",
            " [ 0.06341447  0.06341447]\n",
            " [ 0.371835    0.371835  ]\n",
            " [-1.10602429 -1.10602429]\n",
            " [ 1.35488989  1.35488989]\n",
            " [ 0.62706042  0.62706042]\n",
            " [-0.67604623 -0.67604623]\n",
            " [ 1.64752825  1.64752825]\n",
            " [ 0.33795364  0.33795364]\n",
            " [ 1.56798945  1.56798945]\n",
            " [-0.27506901 -0.27506901]\n",
            " [ 1.26206077  1.26206077]\n",
            " [-0.03659622 -0.03659622]\n",
            " [-1.17742041 -1.17742041]\n",
            " [-0.35930621 -0.35930621]\n",
            " [ 0.874769    0.874769  ]\n",
            " [ 0.82871979  0.82871979]\n",
            " [-0.59553725 -0.59553725]\n",
            " [ 0.00490148  0.00490148]\n",
            " [ 0.1611793   0.1611793 ]\n",
            " [ 1.06991986  1.06991986]\n",
            " [-0.94663271 -0.94663271]\n",
            " [ 0.41897802  0.41897802]\n",
            " [-0.48017928 -0.48017928]\n",
            " [ 0.95670134  0.95670134]\n",
            " [-1.19323912 -1.19323912]\n",
            " [ 0.98454671  0.98454671]\n",
            " [-1.81014102 -1.81014102]\n",
            " [ 0.1969342   0.1969342 ]\n",
            " [ 0.69068559  0.69068559]\n",
            " [-0.62805228 -0.62805228]\n",
            " [-0.91687797 -0.91687797]\n",
            " [ 0.69980077  0.69980077]\n",
            " [-1.28178909 -1.28178909]\n",
            " [ 0.19230728  0.19230728]\n",
            " [-2.25777584 -2.25777584]\n",
            " [-0.85771452 -0.85771452]\n",
            " [-0.26016489 -0.26016489]\n",
            " [ 1.02010145  1.02010145]]\n"
          ],
          "name": "stdout"
        }
      ]
    },
    {
      "cell_type": "markdown",
      "metadata": {
        "id": "rgEkaujyMuFA"
      },
      "source": [
        "\n",
        "###2.3.3 Visualizando as projeções"
      ]
    },
    {
      "cell_type": "markdown",
      "metadata": {
        "id": "ysJKnFIgDi4m"
      },
      "source": [
        "A seguir, os comandos necessários para visualização do grádico com a projeção dos dados:"
      ]
    },
    {
      "cell_type": "code",
      "metadata": {
        "colab": {
          "base_uri": "https://localhost:8080/",
          "height": 566
        },
        "id": "tRKA-lvZMszd",
        "outputId": "7d43e518-97a5-4d27-e2c7-5f1904f48120"
      },
      "source": [
        "\n",
        "plt.figure(figsize=(10,8))\n",
        "\n",
        "plt.plot(X_norm[:,0], X_norm[:,1], 'bo', alpha=0.5)\n",
        "plt.plot(X_rec[:,0], X_rec[:,1], 'r-')\n",
        "\n",
        "plt.title('Visualização da Projeção de Dados - PCA', fontweight='bold')\n",
        "plt.legend(['Dados Normalizados', 'Dados Projetados'], loc=2)\n",
        "\n",
        "plt.axis('equal')\n"
      ],
      "execution_count": 94,
      "outputs": [
        {
          "output_type": "execute_result",
          "data": {
            "text/plain": [
              "(-2.6226830356073587,\n",
              " 1.8594098449299334,\n",
              " -2.487155577529653,\n",
              " 2.559198596885852)"
            ]
          },
          "metadata": {
            "tags": []
          },
          "execution_count": 94
        },
        {
          "output_type": "display_data",
          "data": {
            "image/png": "[encoded data removed]",
            "text/plain": [
              "<Figure size 720x576 with 1 Axes>"
            ]
          },
          "metadata": {
            "tags": []
          }
        }
      ]
    },
    {
      "cell_type": "markdown",
      "metadata": {
        "id": "qPE8Oel_Ogc2"
      },
      "source": [
        "#3 Agrupamento"
      ]
    },
    {
      "cell_type": "markdown",
      "metadata": {
        "id": "WC6002BPOiaW"
      },
      "source": [
        "##3.1 Implmentando K-means"
      ]
    },
    {
      "cell_type": "markdown",
      "metadata": {
        "id": "OgACzwxRHzth"
      },
      "source": [
        "O algoritmo Kmeans, ao ser executado deve: \n",
        "determinar os centróides, \n",
        "atribuir a cada objeto do grupo o centróide mais próximo, bem como atribuir um centróide a cada objeto e  recalculá-los. \n",
        "Para sua correta execução os passos acima devem se repetir até que os\n",
        "centróides não se modifiquem.\n"
      ]
    },
    {
      "cell_type": "code",
      "metadata": {
        "id": "a_gTSRDrMsdf"
      },
      "source": [
        "filepath = 'https://github.com/MLRG-CEFET-RJ/ml-class/blob/master/ml-t2/data/ex7data2.mat?raw=true'\n",
        "r = requests.get(filepath, allow_redirects=True)\n",
        "open('ex7data2.mat', 'wb').write(r.content)\n",
        "\n",
        "data2 = scipy.io.loadmat('ex7data2.mat')\n",
        "\n"
      ],
      "execution_count": 97,
      "outputs": []
    },
    {
      "cell_type": "code",
      "metadata": {
        "id": "rKS5vy9XPKr9"
      },
      "source": [
        "X2=data2[\"X\"]"
      ],
      "execution_count": 98,
      "outputs": []
    },
    {
      "cell_type": "code",
      "metadata": {
        "colab": {
          "base_uri": "https://localhost:8080/",
          "height": 0
        },
        "id": "zsSOqhpCPGMN",
        "outputId": "0363d44d-e612-4085-e812-23df6d33e99f"
      },
      "source": [
        "K = 3\n",
        " \n",
        "X2[:5]"
      ],
      "execution_count": 99,
      "outputs": [
        {
          "output_type": "execute_result",
          "data": {
            "text/plain": [
              "array([[1.84207953, 4.6075716 ],\n",
              "       [5.65858312, 4.79996405],\n",
              "       [6.35257892, 3.2908545 ],\n",
              "       [2.90401653, 4.61220411],\n",
              "       [3.23197916, 4.93989405]])"
            ]
          },
          "metadata": {
            "tags": []
          },
          "execution_count": 99
        }
      ]
    },
    {
      "cell_type": "markdown",
      "metadata": {
        "id": "gySyO6hIDxii"
      },
      "source": [
        "Comandos para o plot do gráfico de dispersão de dados"
      ]
    },
    {
      "cell_type": "code",
      "metadata": {
        "colab": {
          "base_uri": "https://localhost:8080/",
          "height": 498
        },
        "id": "dTp0C3KyPF7V",
        "outputId": "7f6bc1f9-e4be-4203-ac1a-01b8f7afe337"
      },
      "source": [
        "\n",
        "plt.figure(figsize=(10,8))\n",
        "plt.grid(color='0.7', linestyle=':', linewidth=0.5)\n",
        "\n",
        "\n",
        "plt.scatter(X2[:, 0], X2[:, 1], marker='o', alpha=0.7)\n",
        "plt.title('Dispersão dos dados', fontweight='bold')\n",
        "\n",
        "sns.despine()\n",
        "\n"
      ],
      "execution_count": 100,
      "outputs": [
        {
          "output_type": "display_data",
          "data": {
            "image/png": "[encoded data removed]",
            "text/plain": [
              "<Figure size 720x576 with 1 Axes>"
            ]
          },
          "metadata": {
            "tags": []
          }
        }
      ]
    },
    {
      "cell_type": "markdown",
      "metadata": {
        "id": "0bL11N5kPrNY"
      },
      "source": [
        "###3.1.1 Implementação simplificada com Scikit-Learn"
      ]
    },
    {
      "cell_type": "markdown",
      "metadata": {
        "id": "a0E_o55vD3V-"
      },
      "source": [
        "Importando Kmeans da Scikit Learn"
      ]
    },
    {
      "cell_type": "code",
      "metadata": {
        "id": "rfvyuy7JPtXK"
      },
      "source": [
        "from sklearn.cluster import KMeans"
      ],
      "execution_count": 101,
      "outputs": []
    },
    {
      "cell_type": "markdown",
      "metadata": {
        "id": "mGKKICtnD-XO"
      },
      "source": [
        "Primeiramente, é necessário criar um objeto com o agrupador, para em seguida treinar o modelo com a função .fit"
      ]
    },
    {
      "cell_type": "code",
      "metadata": {
        "colab": {
          "base_uri": "https://localhost:8080/",
          "height": 0
        },
        "id": "XhqJNXGtP04x",
        "outputId": "f199bcae-02e4-4ba2-f5cb-ab376911bd69"
      },
      "source": [
        "\n",
        "kmeans = KMeans(n_clusters=K)\n",
        "\n",
        "\n",
        "kmeans.fit(X2)"
      ],
      "execution_count": 102,
      "outputs": [
        {
          "output_type": "execute_result",
          "data": {
            "text/plain": [
              "KMeans(algorithm='auto', copy_x=True, init='k-means++', max_iter=300,\n",
              "       n_clusters=3, n_init=10, n_jobs=None, precompute_distances='auto',\n",
              "       random_state=None, tol=0.0001, verbose=0)"
            ]
          },
          "metadata": {
            "tags": []
          },
          "execution_count": 102
        }
      ]
    },
    {
      "cell_type": "markdown",
      "metadata": {
        "id": "Z7SX0I9vEN1i"
      },
      "source": [
        "Usando o modelo para predição dos grupos com a função .predict."
      ]
    },
    {
      "cell_type": "code",
      "metadata": {
        "colab": {
          "base_uri": "https://localhost:8080/",
          "height": 0
        },
        "id": "QYyZTMnXP5id",
        "outputId": "743d4c42-e84b-41e2-84bf-2ac4277e390c"
      },
      "source": [
        "\n",
        "\n",
        "y_pred = kmeans.predict(X2)\n",
        "y_pred"
      ],
      "execution_count": 103,
      "outputs": [
        {
          "output_type": "execute_result",
          "data": {
            "text/plain": [
              "array([1, 2, 2, 1, 1, 1, 1, 1, 1, 1, 1, 1, 1, 1, 1, 1, 1, 1, 1, 1, 1, 1,\n",
              "       1, 1, 1, 1, 1, 1, 1, 1, 1, 1, 1, 1, 1, 1, 1, 1, 1, 1, 1, 1, 1, 1,\n",
              "       1, 1, 1, 1, 1, 1, 1, 1, 1, 1, 1, 1, 1, 1, 1, 1, 1, 1, 1, 1, 1, 1,\n",
              "       1, 1, 1, 1, 1, 1, 1, 1, 1, 1, 1, 1, 1, 1, 1, 1, 1, 1, 2, 1, 1, 1,\n",
              "       1, 1, 1, 1, 1, 1, 1, 1, 1, 1, 1, 1, 0, 0, 0, 0, 0, 0, 0, 0, 0, 0,\n",
              "       0, 0, 0, 0, 0, 0, 0, 0, 0, 0, 0, 0, 0, 0, 0, 0, 0, 0, 0, 0, 0, 0,\n",
              "       0, 0, 0, 0, 0, 0, 0, 0, 0, 0, 0, 0, 0, 0, 0, 0, 0, 0, 0, 0, 0, 0,\n",
              "       0, 0, 0, 0, 0, 0, 0, 0, 0, 0, 0, 0, 0, 0, 0, 0, 0, 0, 0, 0, 0, 0,\n",
              "       0, 0, 0, 0, 0, 0, 0, 0, 0, 0, 0, 0, 0, 0, 0, 0, 0, 0, 0, 0, 0, 0,\n",
              "       0, 0, 2, 2, 2, 2, 2, 2, 2, 2, 2, 2, 2, 2, 2, 2, 2, 2, 2, 2, 2, 2,\n",
              "       2, 2, 2, 2, 2, 2, 2, 2, 2, 2, 2, 2, 2, 2, 2, 2, 2, 2, 2, 0, 2, 2,\n",
              "       2, 2, 2, 2, 2, 2, 2, 2, 2, 2, 2, 2, 2, 2, 2, 2, 2, 2, 2, 2, 2, 2,\n",
              "       2, 0, 2, 2, 2, 2, 2, 2, 2, 2, 2, 2, 2, 2, 2, 2, 2, 2, 2, 2, 2, 2,\n",
              "       2, 2, 2, 2, 2, 2, 2, 2, 2, 2, 2, 2, 2, 1], dtype=int32)"
            ]
          },
          "metadata": {
            "tags": []
          },
          "execution_count": 103
        }
      ]
    },
    {
      "cell_type": "markdown",
      "metadata": {
        "id": "AJ7Xjmt3EUEO"
      },
      "source": [
        "Identificação dos centroides de cada grupo"
      ]
    },
    {
      "cell_type": "code",
      "metadata": {
        "colab": {
          "base_uri": "https://localhost:8080/",
          "height": 0
        },
        "id": "zWJkCNaPR68Z",
        "outputId": "ce26d49b-16ff-42c1-ffc6-e273e271d38c"
      },
      "source": [
        "\n",
        "kmeans.cluster_centers_"
      ],
      "execution_count": 104,
      "outputs": [
        {
          "output_type": "execute_result",
          "data": {
            "text/plain": [
              "array([[3.04367119, 1.01541041],\n",
              "       [1.95399466, 5.02557006],\n",
              "       [6.03366736, 3.00052511]])"
            ]
          },
          "metadata": {
            "tags": []
          },
          "execution_count": 104
        }
      ]
    },
    {
      "cell_type": "markdown",
      "metadata": {
        "id": "fIDGWIjGEXBR"
      },
      "source": [
        "A seguir, comandos para visualização do gráfico de agrupamento de KMeans. Os comandos serão separadamente explicados em comentáriosno código. "
      ]
    },
    {
      "cell_type": "code",
      "metadata": {
        "colab": {
          "base_uri": "https://localhost:8080/",
          "height": 517
        },
        "id": "MmKGFkU4SMOo",
        "outputId": "21d11b54-73ab-4b31-aa73-f3bad443c5f0"
      },
      "source": [
        "\n",
        "#Visualização do resultado do agrupamento\n",
        "plt.figure(figsize=(10,8))\n",
        "plt.grid(color='0.7', linestyle=':', linewidth=0.5)\n",
        "\n",
        "#Plotagem da dispersão com cores para diferenciar os grupos\n",
        "#Os grupos previstos foram utilizados para definir a cor de cada um deles\n",
        "plt.scatter(X2[:, 0], X2[:, 1], c=y_pred, s=20, cmap='viridis', alpha=0.7)\n",
        "\n",
        "\n",
        "#Plotagem do centróide dos grupos individualmente\n",
        "centers = kmeans.cluster_centers_\n",
        "plt.scatter(centers[:, 0], centers[:, 1], c='black', s=200, alpha=0.5,\n",
        "            label='Centróides')\n",
        "\n",
        "#Configurações do título\n",
        "plt.title('Agrupamento ($k=3$)\\nK-Means Implementação Simplificada',\n",
        "          fontweight='bold')\n",
        "\n",
        "plt.legend()\n",
        "sns.despine()\n"
      ],
      "execution_count": 105,
      "outputs": [
        {
          "output_type": "display_data",
          "data": {
            "image/png": "[encoded data removed]",
            "text/plain": [
              "<Figure size 720x576 with 1 Axes>"
            ]
          },
          "metadata": {
            "tags": []
          }
        }
      ]
    },
    {
      "cell_type": "markdown",
      "metadata": {
        "id": "bpDQLE32Safb"
      },
      "source": [
        "##3.2 Encontrando centróides mais próximos"
      ]
    },
    {
      "cell_type": "markdown",
      "metadata": {
        "id": "1PEYcoUjFCBw"
      },
      "source": [
        "Utiliza-se a função para cálculo dos centróides"
      ]
    },
    {
      "cell_type": "code",
      "metadata": {
        "id": "XywuDWGnS6mT"
      },
      "source": [
        "\n",
        "def find_closest_centroids(X, centroids):\n",
        "  K = np.size(centroids, 0)\n",
        "  idx = np.zeros((len(X), 1), dtype=np.int8)\n",
        "  \n",
        "  \n",
        "  #Quantidade de exemplos no conjunto de dados\n",
        "  m = np.size(X, 0)\n",
        " \n",
        "  for i in range(m):\n",
        " \n",
        "    for j in range(K):\n",
        "      #Cálculo da distância Euclidiana entre o i-ésimo X e o j-ésimo centroide\n",
        "      distance = np.linalg.norm(X[i] - centroids[j])\n",
        "    \n",
        "      #Se for a primeira iteração de j seta min_dist = distance\n",
        "      if j == 0:\n",
        "        min_dist = distance\n",
        " \n",
        "      #Compara as distâncias de cada iteração,  atribuindo o valor a min_dist no caso do menor, \n",
        "      #gravando o índice do centroide\n",
        "      if distance < min_dist:\n",
        "        min_dist = distance\n",
        "        idx[i] = j\n",
        "  ##################################################\n",
        " \n",
        "  return idx"
      ],
      "execution_count": 106,
      "outputs": []
    },
    {
      "cell_type": "markdown",
      "metadata": {
        "id": "utu3NeKJFfEG"
      },
      "source": [
        "Centróides iniciais seguido da conferência da função com os três primeiros exemplos, cujos valores esperados são: [0 2 1]"
      ]
    },
    {
      "cell_type": "code",
      "metadata": {
        "colab": {
          "base_uri": "https://localhost:8080/",
          "height": 0
        },
        "id": "21ICCVJ6TIyu",
        "outputId": "69c7daaa-f284-4b0a-b774-ff46bc572f60"
      },
      "source": [
        "\n",
        "initial_centroids = np.array([[3, 3], [6, 2], [8, 5]])\n",
        "\n",
        "find_closest_centroids(X2[:3], initial_centroids)"
      ],
      "execution_count": 107,
      "outputs": [
        {
          "output_type": "execute_result",
          "data": {
            "text/plain": [
              "array([[0],\n",
              "       [2],\n",
              "       [1]], dtype=int8)"
            ]
          },
          "metadata": {
            "tags": []
          },
          "execution_count": 107
        }
      ]
    },
    {
      "cell_type": "markdown",
      "metadata": {
        "id": "xZjLHK2uFukx"
      },
      "source": [
        "Chama-se a função initial_centroids"
      ]
    },
    {
      "cell_type": "code",
      "metadata": {
        "id": "dHFg-TO1UBfU"
      },
      "source": [
        "\n",
        "idx = find_closest_centroids(X2, initial_centroids)"
      ],
      "execution_count": 108,
      "outputs": []
    },
    {
      "cell_type": "markdown",
      "metadata": {
        "id": "8epQ0ZgMF0aV"
      },
      "source": [
        "Comandos para visualização do gráfico. Semelhantes aos do gráfico de centróides anterior.\n",
        "\n"
      ]
    },
    {
      "cell_type": "code",
      "metadata": {
        "colab": {
          "base_uri": "https://localhost:8080/",
          "height": 515
        },
        "id": "CvoQqgcyUIWX",
        "outputId": "b57fd94d-a0be-4f60-b9c7-4366fc1db293"
      },
      "source": [
        "\n",
        "plt.figure(figsize=(10,8))\n",
        "plt.grid(color='0.7', linestyle=':', linewidth=0.5)\n",
        "\n",
        "\n",
        "plt.scatter(X2[np.where(idx==0),0],X2[np.where(idx==0),1],\n",
        "            color='purple', marker='o', alpha=0.7, s=20, label='Grupo 1')\n",
        "\n",
        "plt.scatter(X2[np.where(idx==1),0],X2[np.where(idx==1),1],\n",
        "            color='yellow', marker='o', alpha=0.7, s=20, label='Grupo 2')\n",
        "\n",
        "plt.scatter(X2[np.where(idx==2),0],X2[np.where(idx==2),1],\n",
        "            color='g', marker='o', alpha=0.7, s=20, label='Grupo 2')\n",
        "\n",
        "\n",
        "\n",
        "centers = initial_centroids\n",
        "plt.scatter(centers[:, 0], centers[:, 1], c='black', s=200, alpha=0.5,\n",
        "            label='Centróides')\n",
        "\n",
        "\n",
        "plt.legend(loc=4)\n",
        "sns.despine()\n",
        "plt.title('Atribuições iniciais do agrupamento', fontweight='bold')\n"
      ],
      "execution_count": 109,
      "outputs": [
        {
          "output_type": "execute_result",
          "data": {
            "text/plain": [
              "Text(0.5, 1.0, 'Atribuições iniciais do agrupamento')"
            ]
          },
          "metadata": {
            "tags": []
          },
          "execution_count": 109
        },
        {
          "output_type": "display_data",
          "data": {
            "image/png": "[encoded data removed]",
            "text/plain": [
              "<Figure size 720x576 with 1 Axes>"
            ]
          },
          "metadata": {
            "tags": []
          }
        }
      ]
    },
    {
      "cell_type": "markdown",
      "metadata": {
        "id": "IHkAOyH3UmtF"
      },
      "source": [
        "##3.3 Atualizações dos centróides"
      ]
    },
    {
      "cell_type": "markdown",
      "metadata": {
        "id": "D6PxGrEPGI8O"
      },
      "source": [
        "Utiliza-se a função abaixo a fim de computar centroides"
      ]
    },
    {
      "cell_type": "code",
      "metadata": {
        "id": "nlkdMS3_Uorg"
      },
      "source": [
        "def compute_centroids(X, idx, K):\n",
        "  centroids = np.zeros((K,np.size(X,1)))\n",
        "\n",
        "  #Calcula-se a os centroides conforme equação do item 3.3\n",
        "  for i in range(K):\n",
        "    #Identificam-se os exemplos do grupo\n",
        "    grupo_indices = np.where(idx == i)[0]\n",
        "    Ck = X2[grupo_indices,:]\n",
        "\n",
        "    #Aplicação da equação\n",
        "    centroids[i,:] = (1/len(Ck))*sum(Ck)\n",
        "  ##################################################\n",
        "\n",
        "  return centroids"
      ],
      "execution_count": 110,
      "outputs": []
    },
    {
      "cell_type": "markdown",
      "metadata": {
        "id": "MVAwlWreGdN0"
      },
      "source": [
        "Chama-se a função a fim de checar os centroides."
      ]
    },
    {
      "cell_type": "code",
      "metadata": {
        "colab": {
          "base_uri": "https://localhost:8080/",
          "height": 0
        },
        "id": "vi7q82-PVEIF",
        "outputId": "6fca4b46-0753-479e-a297-4a4879a7fbac"
      },
      "source": [
        "\n",
        "centroids = compute_centroids(X2, idx, K)\n",
        "centroids"
      ],
      "execution_count": 111,
      "outputs": [
        {
          "output_type": "execute_result",
          "data": {
            "text/plain": [
              "array([[2.42830111, 3.15792418],\n",
              "       [5.81350331, 2.63365645],\n",
              "       [7.11938687, 3.6166844 ]])"
            ]
          },
          "metadata": {
            "tags": []
          },
          "execution_count": 111
        }
      ]
    },
    {
      "cell_type": "markdown",
      "metadata": {
        "id": "lffDzbFaVLwa"
      },
      "source": [
        "##3.4 k-Means aplicado ao conjunto de dados de exemplo"
      ]
    },
    {
      "cell_type": "markdown",
      "metadata": {
        "id": "0lqmEmQ6GkI9"
      },
      "source": [
        "Utiliza-se a função run_kmeans aplizadas aos valores anteiormente computados)"
      ]
    },
    {
      "cell_type": "code",
      "metadata": {
        "id": "Q9ELWlHMVN5V"
      },
      "source": [
        "def run_kmeans(X, initial_centroids, max_iters, plot_progress=False):\n",
        "\tK = np.size(initial_centroids, 0)\n",
        "\tcentroids = initial_centroids \n",
        "\tprevious_centroids = centroids\n",
        "\n",
        "\tfor iter in range(max_iters):\n",
        "\t\t#Atribuição de exemplos de centróides\n",
        "\t\tidx = find_closest_centroids(X, centroids)\n",
        "\n",
        "\t\t#Plote a evolução em centróides por meio da iteração\n",
        "\t\tif plot_progress:\n",
        "\t\t\tplt.scatter(X[np.where(idx==0),0],X[np.where(idx==0),1], marker='x')\n",
        "\t\t\tplt.scatter(X[np.where(idx==1),0],X[np.where(idx==1),1], marker='x')\n",
        "\t\t\tplt.scatter(X[np.where(idx==2),0],X[np.where(idx==2),1], marker='x')\n",
        "\t\t\tplt.plot(previous_centroids[:,0], previous_centroids[:,1], 'yo')\n",
        "\t\t\tplt.plot(centroids[:,0], centroids[:,1], 'bo')\n",
        "\t\t\tplt.show()\n",
        "\n",
        "\t\tprevious_centroids = centroids\n",
        "\n",
        "\t\t#Calcular novos centróides\n",
        "\t\tcentroids = compute_centroids(X, idx, K)\n",
        "\n",
        "\treturn (centroids, idx)"
      ],
      "execution_count": 112,
      "outputs": []
    },
    {
      "cell_type": "code",
      "metadata": {
        "colab": {
          "base_uri": "https://localhost:8080/",
          "height": 0
        },
        "id": "bgQwQSeiU3T7",
        "outputId": "39aac696-1603-4731-f913-1920a8426dbc"
      },
      "source": [
        "initial_centroids = np.array([[3, 3], [6, 2], [8, 5]])\n",
        "\n",
        "max_iters = 10\n",
        "centroids, idx = run_kmeans(X2, initial_centroids, max_iters, plot_progress=False)\n",
        "print('Centroids após a primeira atualização:\\n' + str(centroids))"
      ],
      "execution_count": 113,
      "outputs": [
        {
          "output_type": "stream",
          "text": [
            "Centroids após a primeira atualização:\n",
            "[[1.95399466 5.02557006]\n",
            " [3.04367119 1.01541041]\n",
            " [6.03366736 3.00052511]]\n"
          ],
          "name": "stdout"
        }
      ]
    },
    {
      "cell_type": "markdown",
      "metadata": {
        "id": "c3SON71dHGeT"
      },
      "source": [
        "Comandos de visualização de gráfico. Semenlhantes ao anterior."
      ]
    },
    {
      "cell_type": "code",
      "metadata": {
        "colab": {
          "base_uri": "https://localhost:8080/",
          "height": 516
        },
        "id": "wwE_5KrzVc_u",
        "outputId": "2f761fcc-521f-487a-bb47-57f88b2129ee"
      },
      "source": [
        "\n",
        "idx_new = find_closest_centroids(X2, centroids)\n",
        " \n",
        "\n",
        "plt.figure(figsize=(10,8))\n",
        "plt.grid(color='0.7', linestyle=':', linewidth=0.5)\n",
        " \n",
        "plt.scatter(X2[np.where(idx_new==0),0],X2[np.where(idx_new==0),1],\n",
        "            marker='x', label='Grupo 1')\n",
        "plt.scatter(X2[np.where(idx_new==1),0],X2[np.where(idx_new==1),1],\n",
        "            marker='x', label='Grupo 2')\n",
        "plt.scatter(X2[np.where(idx_new==2),0],X2[np.where(idx_new==2),1],\n",
        "            marker='x', label='Grupo 3')\n",
        "\n",
        "\n",
        "centers = centroids\n",
        "plt.scatter(centers[:, 0], centers[:, 1],\n",
        "            c='black', s=200, alpha=0.5, label='Centróides')\n",
        " \n",
        "plt.title('Agrupamento Final ($K=3$)\\nK-Means Implementação do Zero',\n",
        "          fontweight='bold')\n",
        "\n",
        "plt.legend()\n",
        "sns.despine()\n",
        " \n"
      ],
      "execution_count": 114,
      "outputs": [
        {
          "output_type": "display_data",
          "data": {
            "image/png": "[encoded data removed]",
            "text/plain": [
              "<Figure size 720x576 with 1 Axes>"
            ]
          },
          "metadata": {
            "tags": []
          }
        }
      ]
    },
    {
      "cell_type": "markdown",
      "metadata": {
        "id": "qNQnDuXqVwzf"
      },
      "source": [
        "##3.5 Inicialização aleatória"
      ]
    },
    {
      "cell_type": "markdown",
      "metadata": {
        "id": "ED_CCkEQIo7G"
      },
      "source": [
        "Após várias repetições, conforme citado no início do exercício 3, é possível iniciar o kmeans aleatoriamente. Assim, os resultados de saída, ainda que sejam os mesmos, dificilmente seguirão a mesma ordem em cada experimento."
      ]
    },
    {
      "cell_type": "code",
      "metadata": {
        "colab": {
          "base_uri": "https://localhost:8080/",
          "height": 0
        },
        "id": "7WhlY9KGVzMP",
        "outputId": "f7017505-c0e3-4a6c-8203-e3db476fc4aa"
      },
      "source": [
        "def kmeans_init_centroids(X, K):\n",
        "\treturn X[np.random.choice(X.shape[0], K, replace=False)]\n",
        "\n",
        "initial_centroids = kmeans_init_centroids(X, K)\n",
        "print(initial_centroids)\n",
        "print('='*40)\n",
        "\n"
      ],
      "execution_count": 115,
      "outputs": [
        {
          "output_type": "stream",
          "text": [
            "[[4.19169388 4.95469359]\n",
            " [5.33150572 4.68074235]\n",
            " [3.47580524 3.63284876]]\n",
            "========================================\n"
          ],
          "name": "stdout"
        }
      ]
    },
    {
      "cell_type": "code",
      "metadata": {
        "colab": {
          "base_uri": "https://localhost:8080/",
          "height": 0
        },
        "id": "Xv_n2Y-5V7tR",
        "outputId": "08adc14a-f229-4ae8-89e6-ab24cb01c2d6"
      },
      "source": [
        "max_iters = 10\n",
        "centroids, idx = run_kmeans(X2, initial_centroids, max_iters, plot_progress=False)\n",
        "print('Centroids após a primeira atualização:\\n' + str(centroids))"
      ],
      "execution_count": 116,
      "outputs": [
        {
          "output_type": "stream",
          "text": [
            "Centroids após a primeira atualização:\n",
            "[[1.95399466 5.02557006]\n",
            " [6.03366736 3.00052511]\n",
            " [3.04367119 1.01541041]]\n"
          ],
          "name": "stdout"
        }
      ]
    },
    {
      "cell_type": "markdown",
      "metadata": {
        "id": "vL6auOGWWBPl"
      },
      "source": [
        "#4 Detecção de Anomalias"
      ]
    },
    {
      "cell_type": "markdown",
      "metadata": {
        "id": "plISifjZJGYW"
      },
      "source": [
        "Carregamento do arquivo"
      ]
    },
    {
      "cell_type": "code",
      "metadata": {
        "id": "TdKOPIO1WL_-"
      },
      "source": [
        "\n",
        "import scipy.io as spio"
      ],
      "execution_count": 117,
      "outputs": []
    },
    {
      "cell_type": "code",
      "metadata": {
        "id": "TDG1YxyBWXuT"
      },
      "source": [
        "filepath = 'https://github.com/MLRG-CEFET-RJ/ml-class/blob/master/ml-t2/data/ex8data1.mat?raw=true'\n",
        "r = requests.get(filepath, allow_redirects=True)\n",
        "open('ex8data2.mat', 'wb').write(r.content)\n",
        "\n",
        "data3 = scipy.io.loadmat('ex8data2.mat')"
      ],
      "execution_count": 118,
      "outputs": []
    },
    {
      "cell_type": "markdown",
      "metadata": {
        "id": "AXuIL9AzJNxx"
      },
      "source": [
        "Carga de treino e validação"
      ]
    },
    {
      "cell_type": "code",
      "metadata": {
        "id": "7E51QeLKWp20"
      },
      "source": [
        "\n",
        "X3 = np.array(data3['X'])\n",
        "\n",
        "X3_val = np.array(data3['Xval'])\n",
        "y3_val = data3['yval'].flatten()"
      ],
      "execution_count": 119,
      "outputs": []
    },
    {
      "cell_type": "markdown",
      "metadata": {
        "id": "GRZAEur8JSOm"
      },
      "source": [
        "Conferindo a dimensão do conjunto de dados"
      ]
    },
    {
      "cell_type": "code",
      "metadata": {
        "colab": {
          "base_uri": "https://localhost:8080/",
          "height": 0
        },
        "id": "A3SKkOSeWxvk",
        "outputId": "3db7e39f-71bb-4e57-a75c-1f9917cc88be"
      },
      "source": [
        "\n",
        "print(X3.shape, X3_val.shape, y3_val.shape)"
      ],
      "execution_count": 120,
      "outputs": [
        {
          "output_type": "stream",
          "text": [
            "(307, 2) (307, 2) (307,)\n"
          ],
          "name": "stdout"
        }
      ]
    },
    {
      "cell_type": "markdown",
      "metadata": {
        "id": "y-esupxHJaMw"
      },
      "source": [
        "Comandos para o gráfico de dispersão"
      ]
    },
    {
      "cell_type": "code",
      "metadata": {
        "colab": {
          "base_uri": "https://localhost:8080/",
          "height": 475
        },
        "id": "Q36V5o2MW33-",
        "outputId": "b0e0c2b0-d536-4dd3-bd82-ba892436721f"
      },
      "source": [
        "plt.figure(figsize=(9,7))\n",
        "plt.grid(color='0.7', linestyle=':', linewidth=0.5)\n",
        "\n",
        "\n",
        "plt.scatter(X3[:,0], X3[:,1], marker='x', alpha=0.5)\n",
        "\n",
        "\n",
        "\n",
        "plt.title('Dispersão dos atributos\\nServidores em um Data Center',\n",
        "          fontweight='bold')\n",
        "plt.ylabel('Throughput (mb/s): $x1$', fontweight='bold')\n",
        "plt.xlabel('Latency (ms): $x2$', fontweight='bold')\n",
        "plt.axis('equal')\n",
        "sns.despine()"
      ],
      "execution_count": 121,
      "outputs": [
        {
          "output_type": "display_data",
          "data": {
            "image/png": "[encoded data removed]",
            "text/plain": [
              "<Figure size 648x504 with 1 Axes>"
            ]
          },
          "metadata": {
            "tags": []
          }
        }
      ]
    },
    {
      "cell_type": "markdown",
      "metadata": {
        "id": "h_X12ZnIWDeB"
      },
      "source": [
        "##4.1 Distribuição Gaussiana\n"
      ]
    },
    {
      "cell_type": "markdown",
      "metadata": {
        "id": "JZ70rvSYJhaa"
      },
      "source": [
        "Comandos para visualização do gráfico de distribuição gaussiana"
      ]
    },
    {
      "cell_type": "code",
      "metadata": {
        "colab": {
          "base_uri": "https://localhost:8080/",
          "height": 523
        },
        "id": "9uVRD8FmXByH",
        "outputId": "05692e5b-7d01-4fd9-cdae-9a2aad414e3c"
      },
      "source": [
        "fig = plt.figure(figsize=(14,8))\n",
        "fig.suptitle('Análise da Distribuição dos Atributos', fontweight='bold')\n",
        "\n",
        "#Criação dos subplots\n",
        "ax1 = fig.add_subplot(2,2,1)\n",
        "ax2 = fig.add_subplot(2,2,2)\n",
        "ax3 = fig.add_subplot(2,2,3)\n",
        "ax4 = fig.add_subplot(2,2,4)\n",
        "\n",
        "\n",
        "#Histogramas\n",
        "ax1.hist(X3[:,0])\n",
        "ax1.set_title('Histograma de $x1$', fontweight='bold')\n",
        "\n",
        "ax2.hist(X3[:,1])\n",
        "ax2.set_title('Histograma de $x2$', fontweight='bold')\n",
        "\n",
        "\n",
        "#Boxplots\n",
        "ax3.boxplot(X3[:,0])\n",
        "ax3.set_title('Boxplot de $x1$', fontweight='bold')\n",
        "\n",
        "ax4.boxplot(X3[:,1])\n",
        "ax4.set_title('Boxplot de $x2$', fontweight='bold')\n",
        "\n",
        "\n",
        "#Configurações visuais adicionais\n",
        "ax3.set_xticks([])\n",
        "ax4.set_xticks([])\n",
        "plt.subplots_adjust(wspace=0.1)"
      ],
      "execution_count": 122,
      "outputs": [
        {
          "output_type": "display_data",
          "data": {
            "image/png": "[encoded data removed]",
            "text/plain": [
              "<Figure size 1008x576 with 4 Axes>"
            ]
          },
          "metadata": {
            "tags": []
          }
        }
      ]
    },
    {
      "cell_type": "markdown",
      "metadata": {
        "id": "wKsRuoDXXSNH"
      },
      "source": [
        "##4.2 Estimativa de parâmetros para uma gaussiana"
      ]
    },
    {
      "cell_type": "markdown",
      "metadata": {
        "id": "t-4kHhFNJol8"
      },
      "source": [
        "Utiliza-se a função de estimativa de parâmetros gaussianos. "
      ]
    },
    {
      "cell_type": "code",
      "metadata": {
        "id": "fnoO-OamXUuF"
      },
      "source": [
        "\n",
        "def estimate_gaussian_params(X):\n",
        "  \"\"\"\n",
        "  Essa funcao deve computar e retornar mu e sigma2,\n",
        "  vetores que contem a media e a variancia de cada\n",
        "  caracteristica (feature) de X.\n",
        "  \"\"\"\n",
        "  ########################\n",
        "  # SEU CODIGO AQUI :\n",
        "  ########################\n",
        "  mu = np.mean(X, axis=0)\n",
        "  sigma2 = np.var(X, axis=0)\n",
        "\n",
        "  return (mu, sigma2)"
      ],
      "execution_count": 123,
      "outputs": []
    },
    {
      "cell_type": "code",
      "metadata": {
        "colab": {
          "base_uri": "https://localhost:8080/",
          "height": 0
        },
        "id": "93VBQOLLXaEk",
        "outputId": "955c82ec-71da-41a7-afe8-89c7d8818d6d"
      },
      "source": [
        "mu, sigma2 = estimate_gaussian_params(X3)\n",
        "print(f'mu:     {mu}\\nsigma2: {sigma2}')"
      ],
      "execution_count": 124,
      "outputs": [
        {
          "output_type": "stream",
          "text": [
            "mu:     [14.11222578 14.99771051]\n",
            "sigma2: [1.83263141 1.70974533]\n"
          ],
          "name": "stdout"
        }
      ]
    },
    {
      "cell_type": "code",
      "metadata": {
        "id": "iqhuUhEXXkwM"
      },
      "source": [
        "\n",
        "# Source: https://github.com/Grzego/handwriting-generation/issues/16 \n",
        "def bivariate_normal(X, Y, sigmax=1.0, sigmay=1.0,\n",
        "                     mux=0.0, muy=0.0, sigmaxy=0.0):\n",
        "    \"\"\"\n",
        "    Bivariate Gaussian distribution for equal shape *X*, *Y*.\n",
        "    See `bivariate normal\n",
        "    <http://mathworld.wolfram.com/BivariateNormalDistribution.html>`_\n",
        "    at mathworld.\n",
        "    \"\"\"\n",
        "    Xmu = X-mux\n",
        "    Ymu = Y-muy\n",
        "\n",
        "    rho = sigmaxy/(sigmax*sigmay)\n",
        "    z = Xmu**2/sigmax**2 + Ymu**2/sigmay**2 - 2*rho*Xmu*Ymu/(sigmax*sigmay)\n",
        "    denom = 2*np.pi*sigmax*sigmay*np.sqrt(1-rho**2)\n",
        "    return np.exp(-z/(2*(1-rho**2))) / denom"
      ],
      "execution_count": 125,
      "outputs": []
    },
    {
      "cell_type": "markdown",
      "metadata": {
        "id": "J_LC17ibKbTZ"
      },
      "source": [
        "Comandos para visualização do gráfico"
      ]
    },
    {
      "cell_type": "code",
      "metadata": {
        "colab": {
          "base_uri": "https://localhost:8080/",
          "height": 475
        },
        "id": "A_45UMnFXpR1",
        "outputId": "9d442653-1f41-43a4-c03d-280455ce39eb"
      },
      "source": [
        "#Dados adicionais para construção dos contornos\n",
        "x = np.arange(0, 25, .025)\n",
        "y = np.arange(0, 25, .025)\n",
        "first_axis, second_axis = np.meshgrid(x, y)\n",
        "\n",
        "Z = bivariate_normal(first_axis, second_axis,\n",
        "                     np.sqrt(sigma2[0]), np.sqrt(sigma2[1]),\n",
        "                     mu[0], mu[1])\n",
        "\n",
        "plt.figure(figsize=(9,7))\n",
        "plt.grid(color='0.7', linestyle=':', linewidth=0.5)\n",
        "\n",
        "\n",
        "plt.scatter(X3[:,0], X3[:,1], marker='x', alpha=0.5)\n",
        "\n",
        "#Contornos da Gaussiana\n",
        "plt.contour(first_axis, second_axis, Z, 10, cmap=plt.cm.jet)\n",
        "\n",
        "\n",
        "plt.title('Dispersão dos atributos\\nServidores em um Data Center',\n",
        "          fontweight='bold')\n",
        "plt.ylabel('Throughput (mb/s): $x1$', fontweight='bold')\n",
        "plt.xlabel('Latency (ms): $x2$', fontweight='bold')\n",
        "plt.axis('equal')\n",
        "sns.despine()\n"
      ],
      "execution_count": 126,
      "outputs": [
        {
          "output_type": "display_data",
          "data": {
            "image/png": "[encoded data removed]",
            "text/plain": [
              "<Figure size 648x504 with 1 Axes>"
            ]
          },
          "metadata": {
            "tags": []
          }
        }
      ]
    },
    {
      "cell_type": "markdown",
      "metadata": {
        "id": "x2o839u2KiZb"
      },
      "source": [
        "Incluindo dados adicionais"
      ]
    },
    {
      "cell_type": "code",
      "metadata": {
        "id": "ts-IdQFjX3es"
      },
      "source": [
        "\n",
        "from scipy import stats"
      ],
      "execution_count": 136,
      "outputs": []
    },
    {
      "cell_type": "markdown",
      "metadata": {
        "id": "nJhzgzGpKox4"
      },
      "source": [
        "Primeiramente, calcula-se o desvio padrão e posteriormente a probabilidade com o conjunto de validação. Ao final, verifica-se as dimensões dos dados gerados."
      ]
    },
    {
      "cell_type": "code",
      "metadata": {
        "colab": {
          "base_uri": "https://localhost:8080/",
          "height": 0
        },
        "id": "EpdEkJnoX1l7",
        "outputId": "18028b59-0d2c-472e-bcd9-422450a54c12"
      },
      "source": [
        "\n",
        "\n",
        "#desvio padrão \n",
        "stddev = np.sqrt(sigma2)\n",
        "\n",
        "#Probabilidade\n",
        "pval = np.zeros((X3_val.shape[0], X3_val.shape[1]))  \n",
        "pval[:,0] = stats.norm.pdf(X3_val[:,0], mu[0], stddev[0])  \n",
        "pval[:,1] = stats.norm.pdf(X3_val[:,1], mu[1], stddev[1])\n",
        "\n",
        "\n",
        "print(np.prod(pval, axis=1).shape)"
      ],
      "execution_count": 137,
      "outputs": [
        {
          "output_type": "stream",
          "text": [
            "(307,)\n"
          ],
          "name": "stdout"
        }
      ]
    },
    {
      "cell_type": "markdown",
      "metadata": {
        "id": "uHeCbgPZLGG4"
      },
      "source": [
        "Exemplificando as cinco primeiras linhas de pval"
      ]
    },
    {
      "cell_type": "code",
      "metadata": {
        "colab": {
          "base_uri": "https://localhost:8080/",
          "height": 0
        },
        "id": "gikru9f5X_yU",
        "outputId": "b545cb0f-b0f0-4397-c4cf-a2fd88aa2bd0"
      },
      "source": [
        "\n",
        "pval[:5]"
      ],
      "execution_count": 138,
      "outputs": [
        {
          "output_type": "execute_result",
          "data": {
            "text/plain": [
              "array([[0.13668804, 0.30457725],\n",
              "       [0.27727265, 0.29540963],\n",
              "       [0.25238744, 0.16132253],\n",
              "       [0.27314666, 0.22661829],\n",
              "       [0.26277866, 0.27090007]])"
            ]
          },
          "metadata": {
            "tags": []
          },
          "execution_count": 138
        }
      ]
    },
    {
      "cell_type": "markdown",
      "metadata": {
        "id": "eZOMlW76LLnO"
      },
      "source": [
        "Subconjunto com os primeiros 10 exemplos"
      ]
    },
    {
      "cell_type": "code",
      "metadata": {
        "colab": {
          "base_uri": "https://localhost:8080/",
          "height": 0
        },
        "id": "-6SsJ6qYYEfe",
        "outputId": "da32984f-bd13-440a-b204-776ab1a2a3db"
      },
      "source": [
        "\n",
        "y3_real = np.array(y3_val[:10])\n",
        "y3_real"
      ],
      "execution_count": 139,
      "outputs": [
        {
          "output_type": "execute_result",
          "data": {
            "text/plain": [
              "array([0, 0, 0, 0, 0, 0, 0, 0, 0, 1], dtype=uint8)"
            ]
          },
          "metadata": {
            "tags": []
          },
          "execution_count": 139
        }
      ]
    },
    {
      "cell_type": "markdown",
      "metadata": {
        "id": "l9uh_3eFLO_q"
      },
      "source": [
        "Predições fictícias para teste da função f1_score_"
      ]
    },
    {
      "cell_type": "code",
      "metadata": {
        "colab": {
          "base_uri": "https://localhost:8080/",
          "height": 0
        },
        "id": "PnYqX_sUYKnK",
        "outputId": "0eee7838-13a4-418e-a0cf-0681aea58494"
      },
      "source": [
        "\n",
        "y3_pred = np.array([0, 0, 0, 0, 0, 1, 0, 0, 0, 1])\n",
        "y3_pred"
      ],
      "execution_count": 140,
      "outputs": [
        {
          "output_type": "execute_result",
          "data": {
            "text/plain": [
              "array([0, 0, 0, 0, 0, 1, 0, 0, 0, 1])"
            ]
          },
          "metadata": {
            "tags": []
          },
          "execution_count": 140
        }
      ]
    },
    {
      "cell_type": "markdown",
      "metadata": {
        "id": "9Cs4X6ZwLVQf"
      },
      "source": [
        "A função abaixo, assim como outras, foi retirada do material de aula. Mais explicações no comentários do código."
      ]
    },
    {
      "cell_type": "code",
      "metadata": {
        "id": "seULQbhTYTBC"
      },
      "source": [
        "def f1_score_(y_real, y_pred, matriz=False):\n",
        "  \"\"\"\n",
        "  Função implementa o cálculo manual da métrica F1 Score\n",
        "\n",
        "  Função funciona para fins didáticos, mas não implementa\n",
        "  a forma mais eficiente de cálculo. Para isso, há implementações\n",
        "  prontas como na biblioteca Scikit-Learn classe metrics.f1_score\n",
        "  \"\"\"\n",
        "  ##==============================================\n",
        "  #Cálculos dos elementos da matriz de confusão\n",
        "  ##==============================================\n",
        "  #Inicialização de valores\n",
        "  tp = 0\n",
        "  fp = 0\n",
        "  tn = 0\n",
        "  fn = 0\n",
        "  m = np.size(y_pred)\n",
        "\n",
        "  for k in range(0, len(y_pred)):\n",
        "    #Checagem da previsão da classe positiva\n",
        "    if int(y_pred[k]) == 1:\n",
        "      if int(y_pred[k]) == y_real[k]:\n",
        "        tp += 1\n",
        "      else:\n",
        "        fp += 1\n",
        "\n",
        "    #Checagem da previsão da classe negativa\n",
        "    elif int(y_pred[k]) == 0:\n",
        "      if int(y_pred[k]) == y_real[k]:\n",
        "        tn += 1\n",
        "      else:\n",
        "        fn += 1\n",
        "\n",
        "  ##========================================\n",
        "  #Cálculos das métricas precision e recall\n",
        "  ##========================================\n",
        "  try:\n",
        "    prec = (tp) / (tp + fp)\n",
        "  except ZeroDivisionError:\n",
        "        prec = 0\n",
        "  try:\n",
        "    rec = (tp) / (tp + fn)\n",
        "  except ZeroDivisionError:\n",
        "        rec = 0\n",
        "\n",
        "  ##========================================\n",
        "  #Cálculo do F1\n",
        "  ##========================================\n",
        "  try:\n",
        "    f1 = (2 * prec * rec)/(prec + rec)\n",
        "  except ZeroDivisionError:\n",
        "    f1 = 0\n",
        "\n",
        "  if matriz == True:\n",
        "    print(f'TP: {tp} FP: {fp}')\n",
        "    print(f'TN: {tn} FN: {fn}')\n",
        "    matriz = {'TP': tp, 'FP': fp,\n",
        "              'TN': tn, 'FN': fn}\n",
        "\n",
        "    return f1, matriz\n",
        "\n",
        "  return f1"
      ],
      "execution_count": 141,
      "outputs": []
    },
    {
      "cell_type": "markdown",
      "metadata": {
        "id": "5ZH_hoVLLfjH"
      },
      "source": [
        "Executa-se o teste da função após aplicada"
      ]
    },
    {
      "cell_type": "code",
      "metadata": {
        "colab": {
          "base_uri": "https://localhost:8080/",
          "height": 0
        },
        "id": "GaBaML2jYaev",
        "outputId": "762f22f5-d331-4b2d-e4c8-4a3ad25d7bc3"
      },
      "source": [
        "\n",
        "f1, matriz = f1_score_(y3_real, y3_pred, True)\n",
        "print('-'*50)\n",
        "print(f1, matriz)"
      ],
      "execution_count": 142,
      "outputs": [
        {
          "output_type": "stream",
          "text": [
            "TP: 1 FP: 1\n",
            "TN: 8 FN: 0\n",
            "--------------------------------------------------\n",
            "0.6666666666666666 {'TP': 1, 'FP': 1, 'TN': 8, 'FN': 0}\n"
          ],
          "name": "stdout"
        }
      ]
    },
    {
      "cell_type": "markdown",
      "metadata": {
        "id": "VlB_bB4aLnAr"
      },
      "source": [
        "Personalização da função select_epsilon "
      ]
    },
    {
      "cell_type": "code",
      "metadata": {
        "id": "MO134Q4nYhqI"
      },
      "source": [
        "\n",
        "\n",
        "\"\"\"\n",
        "A implementação poderia ser simplificada pelo uso do f1_score ativando\n",
        "a linha de código ativada abaixo e substituindo a chamada da função f1_score_\n",
        "pela classe abaixo, conforme linha comentada no loop interno\n",
        "\n",
        "#from sklearn.metrics import f1_score\n",
        "\"\"\"\n",
        "\n",
        "def select_epsilon(pval, y_val):\n",
        "  best_epsilon_value = 0\n",
        "  best_f1_value = 0\n",
        "\n",
        "  step_size = (pval.max() - pval.min()) / 1000\n",
        "\n",
        "  print('step size: ' + str(step_size))\n",
        "\n",
        "  for epsilon in np.arange(pval.min(), pval.max(), step_size):\n",
        "      preds = pval < epsilon\n",
        "      #Substituir a linha abaixo para uso com Scikit-Learn\n",
        "      #f = f1_score(y_val, preds)\n",
        "\n",
        "      #Uso da função personalizada para o f1 score\n",
        "      f = f1_score_(y_val, preds)\n",
        "\n",
        "      if f > best_f1_value:\n",
        "        best_f1_value = f\n",
        "        best_epsilon_value = epsilon\n",
        "\n",
        "  ########################\n",
        "  # SEU CODIGO AQUI :\n",
        "  # Dentro deste loop, voce deve implementar logica para\n",
        "  # definir corretamente os valores das variaveis\n",
        "  # best_epsilon_value e best_f1_value.\n",
        "  ########################\n",
        "  return best_epsilon_value, best_f1_value"
      ],
      "execution_count": 143,
      "outputs": []
    },
    {
      "cell_type": "code",
      "metadata": {
        "colab": {
          "base_uri": "https://localhost:8080/",
          "height": 0
        },
        "id": "gYgSbcIHYmqY",
        "outputId": "41893292-29f0-4d87-83bf-fcad07ca51a3"
      },
      "source": [
        "epsilon, _ = select_epsilon(np.prod(pval, axis=1), y3_val)\n",
        "print('Melhor valor encontrado para epsilon: ' + str(epsilon))"
      ],
      "execution_count": 144,
      "outputs": [
        {
          "output_type": "stream",
          "text": [
            "step size: 8.990852779269493e-05\n",
            "Melhor valor encontrado para epsilon: 8.990852779269493e-05\n"
          ],
          "name": "stdout"
        }
      ]
    },
    {
      "cell_type": "markdown",
      "metadata": {
        "id": "4pWtfV-lL1Y_"
      },
      "source": [
        "Comandos para visualização do gráfico de detecção de anomalias"
      ]
    },
    {
      "cell_type": "code",
      "metadata": {
        "colab": {
          "base_uri": "https://localhost:8080/",
          "height": 492
        },
        "id": "31T9SgqqamA-",
        "outputId": "73671098-2b74-4501-c5ff-b161ee2004db"
      },
      "source": [
        "#Dados para detecção das anomalias\n",
        "p = np.zeros((X3.shape[0], X3.shape[1]))  \n",
        "p[:,0] = stats.norm.pdf(X3[:,0], mu[0], stddev[0])  \n",
        "p[:,1] = stats.norm.pdf(X3[:,1], mu[1], stddev[1])\n",
        "\n",
        "#Aplicação do modelo para detecção de anomalias no eixo X\n",
        "anomalies = np.where(np.prod(p, axis=1) < epsilon)\n",
        "\n",
        "plt.clf()\n",
        "plt.figure(figsize=(9,7))\n",
        "plt.grid(color='0.7', linestyle=':', linewidth=0.5)\n",
        "\n",
        "\n",
        "plt.scatter(X3[:,0], X3[:,1], marker='x', alpha=0.5, label='Observações')\n",
        "\n",
        "#Detecção de anomalias\n",
        "plt.scatter(X3[anomalies[0],0], X3[anomalies[0],1], s=50,\n",
        "            color='r', marker='x', label='Anomalias') \n",
        "\n",
        "\n",
        "plt.title('Detecção de Anomalias\\nServidores em um Data Center',\n",
        "          fontweight='bold')\n",
        "plt.ylabel('Throughput (mb/s): $x1$', fontweight='bold')\n",
        "plt.xlabel('Latency (ms): $x2$', fontweight='bold')\n",
        "plt.axis('equal')\n",
        "plt.legend(loc='best')\n",
        "sns.despine()\n"
      ],
      "execution_count": 145,
      "outputs": [
        {
          "output_type": "display_data",
          "data": {
            "text/plain": [
              "<Figure size 576x396 with 0 Axes>"
            ]
          },
          "metadata": {
            "tags": []
          }
        },
        {
          "output_type": "display_data",
          "data": {
            "image/png": "[encoded data removed]",
            "text/plain": [
              "<Figure size 648x504 with 1 Axes>"
            ]
          },
          "metadata": {
            "tags": []
          }
        }
      ]
    },
    {
      "cell_type": "markdown",
      "metadata": {
        "id": "5B1H4Yg3lwyh"
      },
      "source": [
        "https://github.com/scikit-learn/scikit-learn/blob/15a949460/sklearn/neighbors/_base.py#L596\n",
        "\n",
        "https://scikit-learn.org/stable/modules/generated/sklearn.neighbors.KNeighborsRegressor.html\n",
        "\n",
        "https://towardsdatascience.com/building-a-k-nearest-neighbors-k-nn-model-with-scikit-learn-51209555453a\n",
        "\n",
        "https://scikit-learn.org/stable/modules/generated/sklearn.preprocessing.PolynomialFeatures.html\n",
        "\n",
        "https://scikit-learn.org/stable/modules/generated/sklearn.preprocessing.StandardScaler.html\n",
        "\n",
        "https://medium.com/@corymaklin/machine-learning-algorithms-part-11-ridge-regression-7d5861c2bc76\n",
        "\n",
        "https://qastack.com.br/datascience/5656/k-means-what-are-some-good-ways-to-choose-an-efficient-set-of-initial-centroids\n",
        "\n",
        "https://www.inf.ufpr.br/lesoliveira/padroes/segmentacao.pdf\n",
        "\n",
        "https://scikit-learn.org/stable/modules/generated/sklearn.preprocessing.PolynomialFeatures.html"
      ]
    }
  ]
}